{
  "nbformat": 4,
  "nbformat_minor": 5,
  "metadata": {
    "kernelspec": {
      "display_name": "Python 3 (ipykernel)",
      "language": "python",
      "name": "python3"
    },
    "language_info": {
      "codemirror_mode": {
        "name": "ipython",
        "version": 3
      },
      "file_extension": ".py",
      "mimetype": "text/x-python",
      "name": "python",
      "nbconvert_exporter": "python",
      "pygments_lexer": "ipython3",
      "version": "3.7.11"
    },
    "colab": {
      "name": "01-분류-level1",
      "provenance": [],
      "collapsed_sections": [],
      "toc_visible": true
    }
  },
  "cells": [
    {
      "cell_type": "markdown",
      "metadata": {
        "id": "5ae0e343"
      },
      "source": [
        "## PyCaret 설치"
      ],
      "id": "5ae0e343"
    },
    {
      "cell_type": "code",
      "metadata": {
        "id": "47484d8d"
      },
      "source": [
        "!pip install pycaret"
      ],
      "id": "47484d8d",
      "execution_count": null,
      "outputs": []
    },
    {
      "cell_type": "markdown",
      "metadata": {
        "id": "b26c3873"
      },
      "source": [
        "Google Colab 사용자의 경우 다음의 코드를 실행합니다."
      ],
      "id": "b26c3873"
    },
    {
      "cell_type": "code",
      "metadata": {
        "id": "bce29045"
      },
      "source": [
        "from pycaret.utils import enable_colab\n",
        "\n",
        "enable_colab()"
      ],
      "id": "bce29045",
      "execution_count": null,
      "outputs": []
    },
    {
      "cell_type": "markdown",
      "metadata": {
        "id": "3Ga7YijY_5OA"
      },
      "source": [
        "## 분류 Classification"
      ],
      "id": "3Ga7YijY_5OA"
    },
    {
      "cell_type": "markdown",
      "metadata": {
        "id": "Qk9J7sZz_4_C"
      },
      "source": [
        "- 분류 모델은 정답 값(label)에 대하여 **클래스(class)**가 존재하면 개별 데이터를 특정 클래스로 분류할 수 있는 모델입니다.\n",
        "\n",
        "- (예시) 암/정상 환자 분류, 스팸/햄 메일 분류"
      ],
      "id": "Qk9J7sZz_4_C"
    },
    {
      "cell_type": "markdown",
      "metadata": {
        "id": "7f4674cd"
      },
      "source": [
        "## 필요한 모듈 import"
      ],
      "id": "7f4674cd"
    },
    {
      "cell_type": "code",
      "metadata": {
        "id": "77da6ea3"
      },
      "source": [
        "import pandas as pd\n",
        "import numpy as np\n",
        "import seaborn as sns\n",
        "\n",
        "pd.options.display.max_columns = None"
      ],
      "id": "77da6ea3",
      "execution_count": null,
      "outputs": []
    },
    {
      "cell_type": "markdown",
      "metadata": {
        "id": "73ffae10"
      },
      "source": [
        "## 실습을 위한 데이터셋 로드"
      ],
      "id": "73ffae10"
    },
    {
      "cell_type": "code",
      "metadata": {
        "id": "QtyRx-87jQXy"
      },
      "source": [
        "from IPython.display import Image\n",
        "\n",
        "Image('https://static1.squarespace.com/static/5006453fe4b09ef2252ba068/t/5090b249e4b047ba54dfd258/1351660113175/TItanic-Survival-Infographic.jpg')"
      ],
      "id": "QtyRx-87jQXy",
      "execution_count": null,
      "outputs": []
    },
    {
      "cell_type": "markdown",
      "metadata": {
        "id": "ygE2qCROjUsq"
      },
      "source": [
        "건조 당시 세계 최대의 여객선이었지만,**1912년의 최초이자 최후의 항해 때 빙산과 충돌해 침몰한 비운의 여객선**. 아마도 세상에서 가장 유명한 여객선이자 침몰선일 것입니다. \n",
        "\n",
        "침몰한 지 100년이 넘었지만 아직까지 세계에서 가장 유명한 침몰선입니다. \n",
        "\n",
        "사망자 수는 1위는 아니지만, 세계적으로 유명한 영화의 영향도 있고, 당시 최첨단 기술에 대해 기대감이 컸던 사회에 큰 영향을 끼치기도 한데다가, 근대 사회에서 들어서자마자 얼마 안된, 그리고 **유명인사들이 여럿 희생된 대참사**이기 때문에 가장 유명한 침몰선이 되었습니다. 또한 이 사건을 기점으로 여러가지 안전 조약들이 생겨났으니 더더욱 그렇습니다."
      ],
      "id": "ygE2qCROjUsq"
    },
    {
      "cell_type": "code",
      "metadata": {
        "id": "NNEh2pF7ivJ8"
      },
      "source": [
        "dataset = sns.load_dataset('titanic')\n",
        "dataset.head()"
      ],
      "id": "NNEh2pF7ivJ8",
      "execution_count": null,
      "outputs": []
    },
    {
      "cell_type": "code",
      "metadata": {
        "id": "222a5388"
      },
      "source": [
        "# 데이터셋 크기 출력\n",
        "dataset.shape"
      ],
      "id": "222a5388",
      "execution_count": null,
      "outputs": []
    },
    {
      "cell_type": "markdown",
      "metadata": {
        "id": "BMZj0fh9jJmi"
      },
      "source": [
        "### 컬럼 설명\n",
        "\n",
        "- survivied: 생존여부 (1: 생존, 0: 사망)\n",
        "- pclass: 좌석 등급 (1등급, 2등급, 3등급)\n",
        "- sex: 성별\n",
        "- age: 나이\n",
        "- sibsp: 형제 + 배우자 수\n",
        "- parch: 부모 + 자녀 수\n",
        "- fare: 좌석 요금\n",
        "- embarked: 탑승 항구 (S, C, Q)\n",
        "- class: pclass와 동일\n",
        "- who: 성별과 동일\n",
        "- adult_male: 성인 남자 여부\n",
        "- deck: 데크 번호 (알파벳 + 숫자 혼용)\n",
        "- embark_town: 탑승 항구 이름\n",
        "- alive: 생존여부 (yes, no)\n",
        "- alone: 혼자 탑승 여부"
      ],
      "id": "BMZj0fh9jJmi"
    },
    {
      "cell_type": "markdown",
      "metadata": {
        "id": "6beffef3"
      },
      "source": [
        "## STEP 1) 셋업 setup"
      ],
      "id": "6beffef3"
    },
    {
      "cell_type": "markdown",
      "metadata": {
        "id": "aO28a9eQmR1g"
      },
      "source": [
        "머신러닝 예측 방식에 따라 다음 중 하나를 골라 import 합니다."
      ],
      "id": "aO28a9eQmR1g"
    },
    {
      "cell_type": "code",
      "metadata": {
        "id": "fe755196"
      },
      "source": [
        "from pycaret.classification import *  # 분류\n",
        "# from pycaret.regression import *      # 회귀\n",
        "# from pycaret.clustering import *      # 군집\n",
        "# from pycaret.anomaly import *         # 이상 탐지\n",
        "# from pycaret.arules import *          # 연관 규칙"
      ],
      "id": "fe755196",
      "execution_count": null,
      "outputs": []
    },
    {
      "cell_type": "markdown",
      "metadata": {
        "id": "099f81a7"
      },
      "source": [
        "**`setup` 함수**\n",
        "\n",
        "- `data`: 학습할 데이터셋을 지정합니다.\n",
        "- `target`: 예측할 대상(target) 컬럼을 지정합니다.\n",
        "- `session_id`: SEED 값을 지정합니다."
      ],
      "id": "099f81a7"
    },
    {
      "cell_type": "code",
      "metadata": {
        "id": "f2278ada"
      },
      "source": [
        "clf = setup(data=dataset, \n",
        "            target='survived', \n",
        "            session_id=123) "
      ],
      "id": "f2278ada",
      "execution_count": null,
      "outputs": []
    },
    {
      "cell_type": "markdown",
      "metadata": {
        "id": "b91d2d5d"
      },
      "source": [
        "## STEP 2) 모든 모델에 대한 학습 compare_models\n",
        "\n",
        "`compare_models`\n",
        "- `sort`: 정렬 기준이 되는 평가지표를 설정합니다.\n",
        "- `n_select`: 상위 N개의 알고리즘을 선택합니다.\n",
        "- `fold`: Cross Validation 평가 Fold의 개수를 지정합니다."
      ],
      "id": "b91d2d5d"
    },
    {
      "cell_type": "code",
      "metadata": {
        "id": "0a74e38e"
      },
      "source": [
        "best_model = compare_models(sort='Accuracy', n_select=3, fold=5)"
      ],
      "id": "0a74e38e",
      "execution_count": null,
      "outputs": []
    },
    {
      "cell_type": "code",
      "metadata": {
        "id": "5d138942"
      },
      "source": [
        "# 제일 성능이 좋은 모델을 출력합니다.\n",
        "print(best_model)"
      ],
      "id": "5d138942",
      "execution_count": null,
      "outputs": []
    },
    {
      "cell_type": "markdown",
      "metadata": {
        "id": "v5hftUvJkPdi"
      },
      "source": [
        "`survived`를 예측하는 정확도가 상당히 높게 나왓습니다.\n",
        "\n",
        "`alive` 컬럼이 `dataset`에 속해 있기 때문에 머신러닝 알고리즘이 `alive`컬럼 정보를 보고 예측했을 가능성이 큽니다.\n",
        "\n",
        "따라서, `alive` 컬럼을 제거한 후 다시 머신러닝 학습 모델을 만들어 보도록 하겠습니다. "
      ],
      "id": "v5hftUvJkPdi"
    },
    {
      "cell_type": "code",
      "metadata": {
        "id": "fSNBkGd0kMhj"
      },
      "source": [
        "dataset.head(3)"
      ],
      "id": "fSNBkGd0kMhj",
      "execution_count": null,
      "outputs": []
    },
    {
      "cell_type": "markdown",
      "metadata": {
        "id": "2xdv1523lBEJ"
      },
      "source": [
        "- `ignore_features`에 리스트(list) 형식으로 컬럼 정보를 지정합니다. 이 옵션에 지정된 컬럼 정보는 분석 / 학습시 무시하게 됩니다.\n",
        "- `silent=True`는 컬럼 정보가 맞게 설정이 되었는지 확인차 다시 물어보는 interactive 창을 띄우지 않습니다."
      ],
      "id": "2xdv1523lBEJ"
    },
    {
      "cell_type": "code",
      "metadata": {
        "id": "LEUHL4cljoDZ"
      },
      "source": [
        "clf = setup(data=dataset, \n",
        "            ignore_features=['alive'], # 분석/학습에 고려하지 않을 feature(컬럼) 제거\n",
        "            target='survived', \n",
        "            session_id=123, \n",
        "            silent=True,\n",
        "            ) "
      ],
      "id": "LEUHL4cljoDZ",
      "execution_count": null,
      "outputs": []
    },
    {
      "cell_type": "code",
      "metadata": {
        "id": "Knfn1CkWkyqy"
      },
      "source": [
        "best_model = compare_models(sort='Accuracy', n_select=3, fold=5)"
      ],
      "id": "Knfn1CkWkyqy",
      "execution_count": null,
      "outputs": []
    }
  ]
}