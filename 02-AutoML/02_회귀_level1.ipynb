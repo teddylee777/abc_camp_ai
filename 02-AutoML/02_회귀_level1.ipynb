{
  "nbformat": 4,
  "nbformat_minor": 5,
  "metadata": {
    "kernelspec": {
      "display_name": "Python 3 (ipykernel)",
      "language": "python",
      "name": "python3"
    },
    "language_info": {
      "codemirror_mode": {
        "name": "ipython",
        "version": 3
      },
      "file_extension": ".py",
      "mimetype": "text/x-python",
      "name": "python",
      "nbconvert_exporter": "python",
      "pygments_lexer": "ipython3",
      "version": "3.7.11"
    },
    "colab": {
      "name": "02-회귀-level1",
      "provenance": [],
      "collapsed_sections": [],
      "machine_shape": "hm"
    }
  },
  "cells": [
    {
      "cell_type": "markdown",
      "metadata": {
        "id": "5ae0e343"
      },
      "source": [
        "## PyCaret 설치"
      ],
      "id": "5ae0e343"
    },
    {
      "cell_type": "code",
      "metadata": {
        "id": "47484d8d"
      },
      "source": [
        "!pip install pycaret"
      ],
      "id": "47484d8d",
      "execution_count": null,
      "outputs": []
    },
    {
      "cell_type": "markdown",
      "metadata": {
        "id": "b26c3873"
      },
      "source": [
        "Google Colab 사용자의 경우 다음의 코드를 실행합니다."
      ],
      "id": "b26c3873"
    },
    {
      "cell_type": "code",
      "metadata": {
        "id": "bce29045"
      },
      "source": [
        "from pycaret.utils import enable_colab\n",
        "\n",
        "enable_colab()"
      ],
      "id": "bce29045",
      "execution_count": null,
      "outputs": []
    },
    {
      "cell_type": "markdown",
      "metadata": {
        "id": "7f4674cd"
      },
      "source": [
        "## 필요한 모듈 import"
      ],
      "id": "7f4674cd"
    },
    {
      "cell_type": "code",
      "metadata": {
        "id": "77da6ea3"
      },
      "source": [
        "import pandas as pd\n",
        "import numpy as np\n",
        "import seaborn as sns\n",
        "\n",
        "pd.options.display.max_columns = None"
      ],
      "id": "77da6ea3",
      "execution_count": null,
      "outputs": []
    },
    {
      "cell_type": "markdown",
      "metadata": {
        "id": "73ffae10"
      },
      "source": [
        "## 실습을 위한 데이터셋 로드"
      ],
      "id": "73ffae10"
    },
    {
      "cell_type": "code",
      "metadata": {
        "id": "NNEh2pF7ivJ8"
      },
      "source": [
        "from pycaret.datasets import get_data\n",
        "dataset = get_data('diamond')"
      ],
      "id": "NNEh2pF7ivJ8",
      "execution_count": null,
      "outputs": []
    },
    {
      "cell_type": "code",
      "metadata": {
        "id": "222a5388"
      },
      "source": [
        "# 데이터셋 크기 출력\n",
        "dataset.shape"
      ],
      "id": "222a5388",
      "execution_count": null,
      "outputs": []
    },
    {
      "cell_type": "code",
      "metadata": {
        "id": "N-Xb7KZ-2oCC"
      },
      "source": [
        "train = dataset.sample(frac=0.8, random_state=123)\n",
        "test = dataset.drop(train.index)\n",
        "train.reset_index(inplace=True, drop=True)\n",
        "test.reset_index(inplace=True, drop=True)\n",
        "print('학습용 데이터셋: ' + str(train.shape))\n",
        "print('예측용 데이터셋: ' + str(test.shape))"
      ],
      "id": "N-Xb7KZ-2oCC",
      "execution_count": null,
      "outputs": []
    },
    {
      "cell_type": "markdown",
      "metadata": {
        "id": "6beffef3"
      },
      "source": [
        "## 1-1) 셋업 setup"
      ],
      "id": "6beffef3"
    },
    {
      "cell_type": "markdown",
      "metadata": {
        "id": "aO28a9eQmR1g"
      },
      "source": [
        "머신러닝 예측 방식에 따라 다음 중 하나를 골라 import 합니다."
      ],
      "id": "aO28a9eQmR1g"
    },
    {
      "cell_type": "code",
      "metadata": {
        "id": "fe755196"
      },
      "source": [
        "# from pycaret.classification import *  # 분류\n",
        "from pycaret.regression import *        # 회귀\n",
        "# from pycaret.clustering import *      # 군집\n",
        "# from pycaret.anomaly import *         # 이상 탐지\n",
        "# from pycaret.arules import *          # 연관 규칙"
      ],
      "id": "fe755196",
      "execution_count": null,
      "outputs": []
    },
    {
      "cell_type": "markdown",
      "metadata": {
        "id": "099f81a7"
      },
      "source": [
        "**`setup` 함수**\n",
        "\n",
        "- `data`: 학습할 데이터셋을 지정합니다.\n",
        "- `target`: 예측할 대상(target) 컬럼을 지정합니다.\n",
        "- `session_id`: SEED 값을 지정합니다.\n",
        "\n",
        "- `profile`: True로 설정시 데이터 프로파일링을 출력합니다."
      ],
      "id": "099f81a7"
    },
    {
      "cell_type": "code",
      "metadata": {
        "id": "XQ3dwHU9Lb5r"
      },
      "source": [
        "train.head(1)"
      ],
      "id": "XQ3dwHU9Lb5r",
      "execution_count": null,
      "outputs": []
    },
    {
      "cell_type": "code",
      "metadata": {
        "id": "Z7zfUMjjYn95"
      },
      "source": [
        "clf = setup(data=train, \n",
        "            target='Price', \n",
        "            session_id=123, \n",
        "            silent=True,\n",
        "            ) "
      ],
      "id": "Z7zfUMjjYn95",
      "execution_count": null,
      "outputs": []
    },
    {
      "cell_type": "markdown",
      "metadata": {
        "id": "BL9ZOqVvOfDS"
      },
      "source": [
        "## 1-2) 고급 데이터 전처리\n",
        "\n",
        "[문서 링크](https://pycaret.readthedocs.io/en/latest/api/classification.html)"
      ],
      "id": "BL9ZOqVvOfDS"
    },
    {
      "cell_type": "markdown",
      "metadata": {
        "id": "70dkgafPYgip"
      },
      "source": [
        "### `combine_rare_levels` / `rare_level_threshold`\n",
        "\n",
        "- `combine_rare_levels`는 범주형 컬럼 중 희소 값을 가지는 value에 대하여 합쳐 주는 역할을 수행합니다.\n",
        "- `rare_level_threshold`는 N%의 값에 대하여 combine(병합) 하는 작업을 허용하는 허용치를 입력합니다."
      ],
      "id": "70dkgafPYgip"
    },
    {
      "cell_type": "code",
      "metadata": {
        "id": "JbYpKPgTYkrx"
      },
      "source": [
        "# Clarity의 FL 값은 다른 컬럼과 합쳐지게 됩니다.\n",
        "train['Clarity'].value_counts()"
      ],
      "id": "JbYpKPgTYkrx",
      "execution_count": null,
      "outputs": []
    },
    {
      "cell_type": "code",
      "metadata": {
        "id": "LNVpNUV3YgKR"
      },
      "source": [
        "clf = setup(data=train, \n",
        "            target='Price', \n",
        "            session_id=123, \n",
        "            combine_rare_levels=True, \n",
        "            rare_level_threshold=0.05,\n",
        "            silent=True,\n",
        "            ) "
      ],
      "id": "LNVpNUV3YgKR",
      "execution_count": null,
      "outputs": []
    },
    {
      "cell_type": "markdown",
      "metadata": {
        "id": "GS4u_sFqYwf6"
      },
      "source": [
        "### `remove_multicollinearity` / `multicollinearity_threshold`\n",
        "\n",
        "다중 공선성 문제가 발생할 수 있는 컬럼을 제거합니다."
      ],
      "id": "GS4u_sFqYwf6"
    },
    {
      "cell_type": "code",
      "metadata": {
        "id": "IIR7-X7gY-XI"
      },
      "source": [
        "clf = setup(data=train, \n",
        "            target='Price', \n",
        "            session_id=123, \n",
        "            combine_rare_levels=True,           # 희소 level 병합 적용 여부\n",
        "            rare_level_threshold=0.05,          # 희소 level 임계치\n",
        "            remove_multicollinearity=True,      # collinearity 제거\n",
        "            multicollinearity_threshold = 0.95, # collinearity 제거 임계치\n",
        "            silent=True,\n",
        "            ) "
      ],
      "id": "IIR7-X7gY-XI",
      "execution_count": null,
      "outputs": []
    },
    {
      "cell_type": "markdown",
      "metadata": {
        "id": "Na1TBYOUZRCR"
      },
      "source": [
        "### `bin_numeric_features`\n",
        "\n",
        "**binning**을 적용할 컬럼을 선택합니다."
      ],
      "id": "Na1TBYOUZRCR"
    },
    {
      "cell_type": "code",
      "metadata": {
        "id": "g7l6qf9XZQ9x"
      },
      "source": [
        "clf = setup(data=train, \n",
        "            target='Price', \n",
        "            session_id=123, \n",
        "            combine_rare_levels=True,             # 희소 level 병합 적용 여부\n",
        "            rare_level_threshold=0.05,            # 희소 level 임계치\n",
        "            remove_multicollinearity=True,        # collinearity 제거\n",
        "            multicollinearity_threshold=0.95,     # collinearity 제거 임계치\n",
        "            bin_numeric_features=['Carat Weight'],\n",
        "            silent=True,\n",
        "            ) "
      ],
      "id": "g7l6qf9XZQ9x",
      "execution_count": null,
      "outputs": []
    },
    {
      "cell_type": "markdown",
      "metadata": {
        "id": "4JxigWPwZm2x"
      },
      "source": [
        "### `transformation` / `transform_target`"
      ],
      "id": "4JxigWPwZm2x"
    },
    {
      "cell_type": "code",
      "metadata": {
        "id": "MHCLaOb3Zmyp"
      },
      "source": [
        "clf = setup(data=train, \n",
        "            target='Price', \n",
        "            session_id=123, \n",
        "            combine_rare_levels=True,             # 희소 level 병합 적용 여부\n",
        "            rare_level_threshold=0.05,            # 희소 level 임계치\n",
        "            remove_multicollinearity=True,        # collinearity 제거\n",
        "            multicollinearity_threshold=0.95,     # collinearity 제거 임계치\n",
        "            bin_numeric_features=['Carat Weight'],\n",
        "            normalize=True, \n",
        "            transformation=True, \n",
        "            transform_target=True, \n",
        "            silent=True,\n",
        "            ) "
      ],
      "id": "MHCLaOb3Zmyp",
      "execution_count": null,
      "outputs": []
    },
    {
      "cell_type": "markdown",
      "metadata": {
        "id": "b91d2d5d"
      },
      "source": [
        "## 2-1) 모든 모델에 대한 학습 compare_models\n",
        "\n",
        "`compare_models`\n",
        "- `sort`: 정렬 기준이 되는 평가지표를 설정합니다.\n",
        "- `n_select`: 상위 N개의 알고리즘을 선택합니다.\n",
        "- `fold`: Cross Validation 평가 Fold의 개수를 지정합니다.\n",
        "- `round`: 결과를 소수 N째자리 까지 반올림하여 표기합니다."
      ],
      "id": "b91d2d5d"
    },
    {
      "cell_type": "code",
      "metadata": {
        "id": "0a74e38e"
      },
      "source": [
        "best_models = compare_models(n_select=3, fold=5, round=2)"
      ],
      "id": "0a74e38e",
      "execution_count": null,
      "outputs": []
    },
    {
      "cell_type": "markdown",
      "metadata": {
        "id": "t68rVj-gfciG"
      },
      "source": [
        "### 모델 블렌딩 blend_models\n",
        "\n",
        "- `compare_models`로 추출된 best 모델에 대하여 모델 블렌딩하여 성능 개선\n",
        "- `Soft` voting 방식으로 `estimator_list`에 적용된 모델을 앙상블\n",
        "- `Voting Ensemble`"
      ],
      "id": "t68rVj-gfciG"
    },
    {
      "cell_type": "code",
      "metadata": {
        "id": "qLwzgiNYfG8N"
      },
      "source": [
        "blended_models = blend_models(best_models, fold=5)"
      ],
      "id": "qLwzgiNYfG8N",
      "execution_count": null,
      "outputs": []
    },
    {
      "cell_type": "markdown",
      "metadata": {
        "id": "JwzPvXm2hqCf"
      },
      "source": [
        "## 2-2) 단일 모델 생성 create_model / 배깅 앙상블 ensemble_"
      ],
      "id": "JwzPvXm2hqCf"
    },
    {
      "cell_type": "markdown",
      "metadata": {
        "id": "2KXSiuGTIO96"
      },
      "source": [
        "단일 모델을 생성하기 위해서는 `create_model`로 생성할 수 있습니다.\n",
        "\n",
        "단일 모델 리스트\n",
        "\n",
        "- `lr`: Linear Regression\n",
        "- `lasso`: Lasso Regression\n",
        "- `ridge`: Ridge Regression\n",
        "- `en`: Elastic Net\n",
        "- `lar`: Least Angle Regression\t\n",
        "- `llar`: Lasso Least Angle Regression\n",
        "- `omp`: Orthogonal Matching Pursuit\t\n",
        "- `br`: Bayesian Ridge\n",
        "- `ard`: Automatic Relevance Determination\t\n",
        "- `par`: Passive Aggressive Regressor\n",
        "- `ransac`: Random Sample Consensus\n",
        "- `tr`: TheilSen Regressor\n",
        "- `huber`: Huber Regressor\n",
        "- `kr`: Kernel Ridge\n",
        "- `svm`: Support Vector Machine\n",
        "- `knn`: K Neighbors Regressor\t\n",
        "- **`dt`: Decision Tree**\n",
        "- **`rf`: Random Forest**\n",
        "- `et`: Extra Trees Regressor\n",
        "- `ada`: AdaBoost Regressor\n",
        "- **`gbr`: Gradient Boosting Regressor**\n",
        "- `mlp`: Multi Level Perceptron\n",
        "- **`xgboost`: Extreme Gradient Boosting**\n",
        "- **`lightgbm`: Light Gradient Boosting**\n",
        "- **`catboost`: CatBoost Regressor**"
      ],
      "id": "2KXSiuGTIO96"
    },
    {
      "cell_type": "code",
      "metadata": {
        "id": "C3B7yEI1hvae"
      },
      "source": [
        "dt = create_model('dt')"
      ],
      "id": "C3B7yEI1hvae",
      "execution_count": null,
      "outputs": []
    },
    {
      "cell_type": "markdown",
      "metadata": {
        "id": "Er5WoBGhIfrq"
      },
      "source": [
        "### 앙상블 ensemble_model\n",
        "\n",
        "- [배깅 앙상블](https://teddylee777.github.io/machine-learning/ensemble%EA%B8%B0%EB%B2%95%EC%97%90-%EB%8C%80%ED%95%9C-%EC%9D%B4%ED%95%B4%EC%99%80-%EC%A2%85%EB%A5%98-2)\n",
        "\n",
        "- [부스팅 앙상블](https://teddylee777.github.io/machine-learning/ensemble%EA%B8%B0%EB%B2%95%EC%97%90-%EB%8C%80%ED%95%9C-%EC%9D%B4%ED%95%B4%EC%99%80-%EC%A2%85%EB%A5%98-3)"
      ],
      "id": "Er5WoBGhIfrq"
    },
    {
      "cell_type": "code",
      "metadata": {
        "id": "0B7_tTxEd4qp"
      },
      "source": [
        "ensembled_models = ensemble_model(dt, method='Bagging')"
      ],
      "id": "0B7_tTxEd4qp",
      "execution_count": null,
      "outputs": []
    },
    {
      "cell_type": "code",
      "metadata": {
        "id": "d0FRjnd5h1SN"
      },
      "source": [
        "ensembled_models = ensemble_model(dt, method='Boosting')"
      ],
      "id": "d0FRjnd5h1SN",
      "execution_count": null,
      "outputs": []
    },
    {
      "cell_type": "markdown",
      "metadata": {
        "id": "0351UbCLaxZJ"
      },
      "source": [
        "## 3) 튜닝 tune_model"
      ],
      "id": "0351UbCLaxZJ"
    },
    {
      "cell_type": "code",
      "metadata": {
        "id": "Uar4WoAga-kQ"
      },
      "source": [
        "lasso = create_model('lasso', fold=5)"
      ],
      "id": "Uar4WoAga-kQ",
      "execution_count": null,
      "outputs": []
    },
    {
      "cell_type": "markdown",
      "metadata": {
        "id": "JOm11q-UbiVy"
      },
      "source": [
        "`RandomizedSearchCV`를 활용하여 하이퍼 파라미터를 튜닝합니다.\n",
        "\n",
        "- `n_iter`에 횟수를 늘리거나 줄여서 시도할 횟수를 지정할 수 있습니다."
      ],
      "id": "JOm11q-UbiVy"
    },
    {
      "cell_type": "code",
      "metadata": {
        "id": "DGZxp41ba0IR"
      },
      "source": [
        "tuned_models = tune_model(dt, fold=5, n_iter=50, round=2)"
      ],
      "id": "DGZxp41ba0IR",
      "execution_count": null,
      "outputs": []
    },
    {
      "cell_type": "markdown",
      "metadata": {
        "id": "ombHKHXoli3a"
      },
      "source": [
        "## 4) 모델 예측 predict_model\n",
        "\n",
        "- `Label`에 예측된 결과를 확인할 수 있습니다.\n",
        "- `Score`에 예측된 결과의 **확률** 값을 확인할 수 있습니다."
      ],
      "id": "ombHKHXoli3a"
    },
    {
      "cell_type": "code",
      "metadata": {
        "id": "aR5eG-KrGGvc"
      },
      "source": [
        "predict_model(data=test, estimator=ensembled_models)"
      ],
      "id": "aR5eG-KrGGvc",
      "execution_count": null,
      "outputs": []
    },
    {
      "cell_type": "markdown",
      "metadata": {
        "id": "hwihJrs9Iyvo"
      },
      "source": [
        "## 5) 모델 분석 interpret_model"
      ],
      "id": "hwihJrs9Iyvo"
    },
    {
      "cell_type": "markdown",
      "metadata": {
        "id": "So3v1yFWIhk-"
      },
      "source": [
        "### 특성 중요도 Feature Importances\n",
        "\n",
        "각 특성별 종속변수(Y)에 미치는 영향도를 계산"
      ],
      "id": "So3v1yFWIhk-"
    },
    {
      "cell_type": "code",
      "metadata": {
        "id": "e-D5qHvNIgER"
      },
      "source": [
        "plot_model(dt, plot='feature')"
      ],
      "id": "e-D5qHvNIgER",
      "execution_count": null,
      "outputs": []
    },
    {
      "cell_type": "markdown",
      "metadata": {
        "id": "hJAJxMM4IRDH"
      },
      "source": [
        "### 섀플리 분석 SHAP(SHapley Additive exPlanations)"
      ],
      "id": "hJAJxMM4IRDH"
    },
    {
      "cell_type": "markdown",
      "metadata": {
        "id": "j8Jm1_KYIQPv"
      },
      "source": [
        "- 게임 이론에서 처음 등장하였으며, 머신러닝 모델을 분석하기 시작하면서 다시 주목받고 있음\n",
        "- 섀플리 값 (SHAP Value)는 각각의 데이터가 종속변수 (Y)에 미치는 영향도를 계산한 값 (기여도를 수치화)"
      ],
      "id": "j8Jm1_KYIQPv"
    },
    {
      "cell_type": "code",
      "metadata": {
        "id": "8TV9ditZJzEX"
      },
      "source": [
        "!pip install shap"
      ],
      "id": "8TV9ditZJzEX",
      "execution_count": null,
      "outputs": []
    },
    {
      "cell_type": "code",
      "metadata": {
        "id": "gVWZp8-5JuPR"
      },
      "source": [
        "interpret_model(dt)"
      ],
      "id": "gVWZp8-5JuPR",
      "execution_count": null,
      "outputs": []
    }
  ]
}