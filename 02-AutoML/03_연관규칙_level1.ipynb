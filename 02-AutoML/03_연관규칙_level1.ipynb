{
  "nbformat": 4,
  "nbformat_minor": 5,
  "metadata": {
    "kernelspec": {
      "display_name": "Python 3 (ipykernel)",
      "language": "python",
      "name": "python3"
    },
    "language_info": {
      "codemirror_mode": {
        "name": "ipython",
        "version": 3
      },
      "file_extension": ".py",
      "mimetype": "text/x-python",
      "name": "python",
      "nbconvert_exporter": "python",
      "pygments_lexer": "ipython3",
      "version": "3.7.11"
    },
    "colab": {
      "name": "03-연관규칙-level1",
      "provenance": [],
      "collapsed_sections": [],
      "machine_shape": "hm"
    }
  },
  "cells": [
    {
      "cell_type": "markdown",
      "metadata": {
        "id": "5ae0e343"
      },
      "source": [
        "## PyCaret 설치"
      ],
      "id": "5ae0e343"
    },
    {
      "cell_type": "code",
      "metadata": {
        "id": "47484d8d"
      },
      "source": [
        "!pip install pycaret"
      ],
      "id": "47484d8d",
      "execution_count": null,
      "outputs": []
    },
    {
      "cell_type": "markdown",
      "metadata": {
        "id": "b26c3873"
      },
      "source": [
        "Google Colab 사용자의 경우 다음의 코드를 실행합니다."
      ],
      "id": "b26c3873"
    },
    {
      "cell_type": "code",
      "metadata": {
        "id": "bce29045"
      },
      "source": [
        "from pycaret.utils import enable_colab\n",
        "\n",
        "enable_colab()"
      ],
      "id": "bce29045",
      "execution_count": null,
      "outputs": []
    },
    {
      "cell_type": "markdown",
      "metadata": {
        "id": "7f4674cd"
      },
      "source": [
        "## 필요한 모듈 import"
      ],
      "id": "7f4674cd"
    },
    {
      "cell_type": "code",
      "metadata": {
        "id": "77da6ea3"
      },
      "source": [
        "import pandas as pd\n",
        "import numpy as np\n",
        "import seaborn as sns\n",
        "\n",
        "pd.options.display.max_columns = None"
      ],
      "id": "77da6ea3",
      "execution_count": null,
      "outputs": []
    },
    {
      "cell_type": "markdown",
      "metadata": {
        "id": "73ffae10"
      },
      "source": [
        "## 실습을 위한 데이터셋 로드"
      ],
      "id": "73ffae10"
    },
    {
      "cell_type": "code",
      "metadata": {
        "id": "NNEh2pF7ivJ8"
      },
      "source": [
        "from pycaret.datasets import get_data\n",
        "dataset = get_data('france')"
      ],
      "id": "NNEh2pF7ivJ8",
      "execution_count": null,
      "outputs": []
    },
    {
      "cell_type": "markdown",
      "metadata": {
        "id": "akCPSS2ySlQ1"
      },
      "source": [
        "- `InvoiceNo`: 송장번호. 명목, 각 거래에 고유하게 할당된 6자리 정수. 이 코드가 문자 'c'로 시작하면 취소를 나타냅니다.\n",
        "- `StockCode`: 제품(항목) 코드. 공칭, 각 고유 제품에 고유하게 할당된 5자리 정수입니다.\n",
        "- `Description`: 제품(항목) 이름\n",
        "- `Quantity`: 거래당 각 제품(항목)의 수량\n",
        "- `InvoiceData`: 송장 날짜 및 시간\n",
        "- `UnitPrice`: 단가. 숫자, 단위당 제품 가격.\n",
        "- `CustomerID`: 고객 번호입니다. 호칭, 각 고객에게 고유하게 할당된 5자리 정수\n",
        "- `Country`: 국가 이름. 명목상, 각 고객이 거주하는 국가의 이름"
      ],
      "id": "akCPSS2ySlQ1"
    },
    {
      "cell_type": "markdown",
      "metadata": {
        "id": "6beffef3"
      },
      "source": [
        "## STEP 1) 셋업 setup"
      ],
      "id": "6beffef3"
    },
    {
      "cell_type": "markdown",
      "metadata": {
        "id": "aO28a9eQmR1g"
      },
      "source": [
        "머신러닝 예측 방식에 따라 다음 중 하나를 골라 import 합니다."
      ],
      "id": "aO28a9eQmR1g"
    },
    {
      "cell_type": "code",
      "metadata": {
        "id": "fe755196"
      },
      "source": [
        "# from pycaret.classification import *  # 분류\n",
        "# from pycaret.regression import *      # 회귀\n",
        "# from pycaret.clustering import *      # 군집\n",
        "# from pycaret.anomaly import *         # 이상 탐지\n",
        "from pycaret.arules import *            # 연관 규칙"
      ],
      "id": "fe755196",
      "execution_count": null,
      "outputs": []
    },
    {
      "cell_type": "markdown",
      "metadata": {
        "id": "099f81a7"
      },
      "source": [
        "**`setup` 함수**\n",
        "\n",
        "- `data`: 학습할 데이터셋을 지정합니다.\n",
        "- `transaction_id`: 트랜섹션 id를 입력합니다. `transaction_id`를 기준으로 아이템을 그룹핑합니다.\n",
        "- `item_id`: 아이템의 고유 품목(명) 이 되는 컬럼을 지정합니다.\n",
        "- `session_id`: SEED 값을 지정합니다."
      ],
      "id": "099f81a7"
    },
    {
      "cell_type": "code",
      "metadata": {
        "id": "XQ3dwHU9Lb5r"
      },
      "source": [
        "train.head(1)"
      ],
      "id": "XQ3dwHU9Lb5r",
      "execution_count": null,
      "outputs": []
    },
    {
      "cell_type": "code",
      "metadata": {
        "id": "Z7zfUMjjYn95"
      },
      "source": [
        "clf = setup(data=dataset, \n",
        "            transaction_id='InvoiceNo',\n",
        "            item_id='Description') "
      ],
      "id": "Z7zfUMjjYn95",
      "execution_count": null,
      "outputs": []
    },
    {
      "cell_type": "markdown",
      "metadata": {
        "id": "aDPe9-69bDFv"
      },
      "source": [
        "- `Transactions` : 데이터세트의 고유한 트랜잭션 수입니다. 이 경우 `InvoiceNo`의 고유 개수가 됩니다.\n",
        "\n",
        "- `Items` : 데이터세트의 고유한 항목 수입니다. 이 경우 `Description`에 지정한 고유 품목수가 됩니다.\n",
        "\n",
        "- `Ignore Items` : 연관 규칙에서 무시할 항목을 지정합니다. "
      ],
      "id": "aDPe9-69bDFv"
    },
    {
      "cell_type": "code",
      "metadata": {
        "id": "cxOk4Yk0b5aP"
      },
      "source": [
        "clf = setup(data=dataset, \n",
        "            transaction_id='InvoiceNo',\n",
        "            item_id='Description', \n",
        "            ignore_items = ['POSTAGE']\n",
        "            ) "
      ],
      "id": "cxOk4Yk0b5aP",
      "execution_count": null,
      "outputs": []
    },
    {
      "cell_type": "markdown",
      "metadata": {
        "id": "5x1cKb5ocPw3"
      },
      "source": [
        "## 모델 생성"
      ],
      "id": "5x1cKb5ocPw3"
    },
    {
      "cell_type": "markdown",
      "metadata": {
        "id": "0KLZtRMDcaSm"
      },
      "source": [
        "연관규칙에서 모델을 생성하는 방법은 단순합니다. 필수로 입력해야 하는 파라미터는 없으나 4개의 옵션을 제공하며 옵션은 다음과 같습니다.\n",
        "\n",
        "- `metric`: 평가지표를 설정합니다. 기본값은 `confidence`입니다. 다른 옵션 값으로는 `support`, `lift`, `leverage`, `conviction` 가 있습니다.\n",
        "- `threshold`: 평가지표에 대한 최소 임계값을 지정합니다. 기본 값은 **0.5** 입니다.\n",
        "- `min_support`: `support`에 대한 최소 임계값을 지정합니다. `support는 다음과 같이 계산 됩니다. `트랜섹션 별 아이템 출현 빈도` / `전체 트랜섹션`. 기본 값은 **0.05** 입니다.\n",
        "- `round`: 반올림할 소수점 자릿수를 지정합니다."
      ],
      "id": "0KLZtRMDcaSm"
    },
    {
      "cell_type": "code",
      "metadata": {
        "id": "C3vtXBfgcEsP"
      },
      "source": [
        "ar_model = create_model() "
      ],
      "id": "C3vtXBfgcEsP",
      "execution_count": null,
      "outputs": []
    },
    {
      "cell_type": "code",
      "metadata": {
        "id": "ziOiKNAkcRuB"
      },
      "source": [
        "ar_model.shape"
      ],
      "id": "ziOiKNAkcRuB",
      "execution_count": null,
      "outputs": []
    },
    {
      "cell_type": "markdown",
      "metadata": {
        "id": "Zd2SWXF_d8Pu"
      },
      "source": [
        "## 결과 해석\n",
        "\n",
        "아이템 X, Y가 존재한다고 가정합니다.\n",
        "\n",
        "1. **지지도(support)**:\n",
        "  - 두 항목 X, Y가 모두 포함하는 거래건수(transaction_id)의 비율을 나타냅니다.\n",
        "  - (X, Y 모두 포함하는 transaction_id) / (전체 transaction_id)\n",
        "  - (실사례) frequent item set을 판단하는데 사용\n",
        "  - (예시) 햇반, 라면, 스팸 묶음 세트 -> 마케팅 프로모션\n",
        "\n",
        "2. **신뢰도(confidence)**:\n",
        "  - X를 포함하는 거래중 X, Y를 모두 포함하는 조건부 확률을 말합니다.\n",
        "  - (X, Y 모두 포함하는 transaction_id) / (항목 X가 포함된 transaction_id)\n",
        "  - 아이템 집합 간의 **연관성 강도**를 측정할 때 사용\n",
        "  - 신뢰도 100%의 의미는 X를 구매하는 경우, 무조건 Y를 구매한다고 볼 수 있음\n",
        "  - 다만, 향상도를 같이 고려해야함\n",
        "\n",
        "3. **향상도(lift)**:\n",
        "  - 항목 X가 주어지지 않았을 때 항목 Y의 확률 대비 / 항목 X가 주어졌을 때 항목 Y의 확률 증가 비율을 말합니다.\n",
        "  - lift가 1보다 큰 경우: 긍정적인 연관관계\n",
        "  - lift가 1인 경우: X, Y는 독립적인 관계. 연관성이 없음\n",
        "  - lift가 1보다 작은 경우: 부정적인 연관관계\n",
        "  - 만약, 두 항목 (X, Y)가 대체제인 경우 같이 구매되는 경우가 없으므로 1보다 작은 값이 발생할 수 있음. (예시) 콜라/사이다.\n",
        "\n"
      ],
      "id": "Zd2SWXF_d8Pu"
    },
    {
      "cell_type": "markdown",
      "metadata": {
        "id": "OSZrv31whoPW"
      },
      "source": [
        "- `antecedents`: 전례\n",
        "- `consequents`: 결과"
      ],
      "id": "OSZrv31whoPW"
    },
    {
      "cell_type": "code",
      "metadata": {
        "id": "zsvQ8jHEcUwW"
      },
      "source": [
        "ar_model[['antecedents', 'consequents', 'support', 'confidence', 'lift']].head(10)"
      ],
      "id": "zsvQ8jHEcUwW",
      "execution_count": null,
      "outputs": []
    },
    {
      "cell_type": "code",
      "metadata": {
        "id": "EWFd5nfzdvfX"
      },
      "source": [
        "plot_model(ar_model)"
      ],
      "id": "EWFd5nfzdvfX",
      "execution_count": null,
      "outputs": []
    },
    {
      "cell_type": "code",
      "metadata": {
        "id": "_q7WJttQdxMW"
      },
      "source": [
        "plot_model(ar_model, plot='3d')"
      ],
      "id": "_q7WJttQdxMW",
      "execution_count": null,
      "outputs": []
    }
  ]
}