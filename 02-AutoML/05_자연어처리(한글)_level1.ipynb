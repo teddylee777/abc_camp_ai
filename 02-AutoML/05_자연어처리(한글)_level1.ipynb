{
  "nbformat": 4,
  "nbformat_minor": 0,
  "metadata": {
    "colab": {
      "name": "05-자연어처리(한글)-level1",
      "provenance": [],
      "collapsed_sections": []
    },
    "kernelspec": {
      "name": "python3",
      "display_name": "Python 3"
    },
    "language_info": {
      "name": "python"
    },
    "accelerator": "GPU"
  },
  "cells": [
    {
      "cell_type": "markdown",
      "metadata": {
        "id": "vi1WWFGLkAH_"
      },
      "source": [
        "## 필요한 모듈\n",
        "\n",
        "1. `konlpy`: 한글 형태소 분석기\n",
        "  - [공식문서](https://konlpy.org/ko/latest/)\n",
        "  - 한글 자연어처리를 위한 필수 설치 라이브러리\n",
        "\n",
        "2. `pororo`: 카카오브레인에서 만든 한글 자연어처리 라이브러리\n",
        "  - [Github 주소](https://github.com/kakaobrain/pororo)\n",
        "  - [공식문서](https://kakaobrain.github.io/pororo/)"
      ]
    },
    {
      "cell_type": "code",
      "metadata": {
        "id": "lmSFdZjNkcYu"
      },
      "source": [
        "# konlpy 설치\n",
        "!pip install konlpy"
      ],
      "execution_count": null,
      "outputs": []
    },
    {
      "cell_type": "code",
      "metadata": {
        "id": "e8MIAadSnED_"
      },
      "source": [
        "# Pororo 설치\n",
        "!pip install git+https://github.com/kakaobrain/pororo.git"
      ],
      "execution_count": null,
      "outputs": []
    },
    {
      "cell_type": "code",
      "metadata": {
        "id": "RLtUtj3AN2Yv"
      },
      "source": [
        "# mecab 형태소 분석기 설치\n",
        "!pip install python-mecab-ko"
      ],
      "execution_count": null,
      "outputs": []
    },
    {
      "cell_type": "code",
      "metadata": {
        "id": "4KayLC8fNvle"
      },
      "source": [
        "# 예제 실행을 위한 사전 import\n",
        "from pororo import Pororo\n",
        "\n",
        "# 빈칸 채우기\n",
        "fib = Pororo(task=\"fib\", lang=\"ko\")\n",
        "\n",
        "# 이미지 캡셔닝\n",
        "caption = Pororo(task=\"caption\", lang=\"en\")\n",
        "\n",
        "# 자동 에세이 채점\n",
        "aes = Pororo(task=\"aes\", lang=\"en\")\n",
        "\n",
        "# 기계번역\n",
        "mt = Pororo(task=\"translation\", lang=\"multi\")\n",
        "\n",
        "# 한글 맞춤법(띄어쓰기) 수정\n",
        "spacing = Pororo(task=\"gec\", lang=\"ko\")\n",
        "\n",
        "# 영어 알파벳 수정\n",
        "gec = Pororo(task=\"gec\", lang=\"en\")\n",
        "\n",
        "# 요약\n",
        "bullet_summ = Pororo(task=\"text_summarization\", lang=\"ko\", model=\"bullet\")\n",
        "ext_summ = Pororo(task=\"text_summarization\", lang=\"ko\", model=\"extractive\")\n",
        "abs_summ = Pororo(task=\"text_summarization\", lang=\"ko\", model=\"abstractive\")"
      ],
      "execution_count": null,
      "outputs": []
    },
    {
      "cell_type": "markdown",
      "metadata": {
        "id": "p1PPHLmIkV6T"
      },
      "source": [
        "## 형태소 분석기 `konlpy` 예제"
      ]
    },
    {
      "cell_type": "code",
      "metadata": {
        "id": "dOCEdrXofYv2"
      },
      "source": [
        "input_text = '''그룹 방탄소년단(BTS)이 두 번째 영어 곡 '버터'(Butter)로 미국 빌보드 메인 싱글 차트에서 2주 연속 정상에 올랐습니다.\n",
        "빌보드는 지난달 21일 발매된 BTS의 '버터'가 메인 싱글 차트인 '핫 100'에서 지난주에 이어 1위를 기록했다고 7일(현지시간) 밝혔습니다.\n",
        "'''\n",
        "input_text"
      ],
      "execution_count": null,
      "outputs": []
    },
    {
      "cell_type": "code",
      "metadata": {
        "id": "_WZiymNIf-IX"
      },
      "source": [
        "# 형태소 분석기 가져오기\n",
        "from konlpy.tag import Okt"
      ],
      "execution_count": null,
      "outputs": []
    },
    {
      "cell_type": "code",
      "metadata": {
        "id": "_1fUt5pHgBDp"
      },
      "source": [
        "# 객체 생성\n",
        "okt = Okt()"
      ],
      "execution_count": null,
      "outputs": []
    },
    {
      "cell_type": "code",
      "metadata": {
        "id": "_kIBaYsFgNFd"
      },
      "source": [
        "okt.pos(input_text)[:10]"
      ],
      "execution_count": null,
      "outputs": []
    },
    {
      "cell_type": "code",
      "metadata": {
        "id": "XL3dZQBXgO0t"
      },
      "source": [
        "okt.morphs(input_text)[:20]"
      ],
      "execution_count": null,
      "outputs": []
    },
    {
      "cell_type": "markdown",
      "metadata": {
        "id": "pSTlyNUJdDX7"
      },
      "source": [
        "## 문서 요약 (Text Summerization)\n",
        "\n",
        "- [문서링크](https://kakaobrain.github.io/pororo/seq2seq/summary.html)"
      ]
    },
    {
      "cell_type": "markdown",
      "metadata": {
        "id": "Bt5xzMFdlm6-"
      },
      "source": [
        "샘플 데이터 생성"
      ]
    },
    {
      "cell_type": "code",
      "metadata": {
        "id": "hx8vk-mmllX2"
      },
      "source": [
        "input_text1 = \"\"\"가수 김태연은 걸 그룹 소녀시대, 소녀시대-태티서 및 소녀시대-Oh!GG의 리더이자 메인보컬이다. 2004년 SM에서 주최한 청소년 베스트 선발 대회에서 노래짱 대상을 수상하며 SM 엔터테인먼트에 캐스팅되었다. 이후 3년간의 연습생을 거쳐 2007년 소녀시대의 멤버로 데뷔했다. 태연은 1989년 3월 9일 대한민국 전라북도 전주시 완산구에서 아버지 김종구, 어머니 김희자 사이의 1남 2녀 중 둘째로 태어났다. 가족으로는 오빠 김지웅, 여동생 김하연이 있다. 어릴 적부터 춤을 좋아했고 특히 명절 때는 친척들이 춤을 시키면 곧잘 추었다던 태연은 TV에서 보아를 보고 가수의 꿈을 갖게 되었다고 한다. 전주양지초등학교를 졸업하였고 전주양지중학교 2학년이던 2003년 SM아카데미 스타라이트 메인지방보컬과 4기에 들어가게 되면서 아버지와 함께 주말마다 전주에서 서울로 이동하며 가수의 꿈을 키웠다. 2004년에 당시 보컬 트레이너였던 더 원의 정규 2집 수록곡 〈You Bring Me Joy (Part 2)〉에 피처링으로 참여했다. 당시 만 15세였던 태연은 현재 활동하는 소속사 SM 엔터테인먼트에 들어가기 전이었다. 이후 태연은 2004년 8월에 열린 제8회 SM 청소년 베스트 선발 대회에서 노래짱 부문에 출전해 1위(대상)를 수상하였고 SM 엔터테인먼트에 정식 캐스팅되어 연습생 생활을 시작하게 되었다. 2005년 청담고등학교에 입학하였으나, 학교 측에서 연예계 활동을 용인하지 않아 전주예술고등학교 방송문화예술과로 전학하였고 2008년 졸업하면서 학교를 빛낸 공로로 공로상을 수상했다. 태연은 연습생 생활이 힘들어 숙소에서 몰래 뛰쳐나갔다가 하루 만에 다시 돌아오기도 했다고 이야기하기도 했다. 이후 SM엔터테인먼트에서 3년여의 연습생 기간을 거쳐 걸 그룹 소녀시대의 멤버로 정식 데뷔하게 되었다.\"\"\"\n",
        "input_text2 = \"\"\"목성과 토성이 약 400년 만에 가장 가까이 만났습니다. 국립과천과학관 등 천문학계에 따르면 21일 저녁 목성과 토성은 1623년 이후 397년 만에 가장 가까워졌는데요. 크리스마스 즈음까지 남서쪽 하늘을 올려다보면 목성과 토성이 가까워지는 현상을 관측할 수 있습니다. 목성의 공전주기는 11.9년, 토성의 공전주기는 29.5년인데요. 공전주기의 차이로 두 행성은 약 19.9년에 한 번 가까워집니다. 이번 근접 때  목성과 토성 사이 거리는 보름달 지름의 5분의 1 정도로 가까워졌습니다. 맨눈으로 보면 두 행성이 겹쳐져 하나의 별처럼 보이는데요. 지난 21일 이후 목성과 토성의 대근접은 2080년 3월 15일로 예측됩니다. 과천과학관 측은 우리가 대근접을 볼 수 있는 기회는 이번이 처음이자 마지막이 될 가능성이 크다라고 설명했 습니다.\"\"\""
      ],
      "execution_count": null,
      "outputs": []
    },
    {
      "cell_type": "code",
      "metadata": {
        "id": "lVu6xMZvdWyr"
      },
      "source": [
        "input_text1"
      ],
      "execution_count": null,
      "outputs": []
    },
    {
      "cell_type": "code",
      "metadata": {
        "id": "PcOzmqz3pmEm"
      },
      "source": [
        "# supports various decoding strategies \n",
        "abs_summ(\n",
        "    input_text1, \n",
        "    beam=5, \n",
        "    len_penalty=0.6,\n",
        "    no_repeat_ngram_size=3,\n",
        "    top_k=50,\n",
        "    top_p=0.7\n",
        ")"
      ],
      "execution_count": null,
      "outputs": []
    },
    {
      "cell_type": "code",
      "metadata": {
        "id": "KKdB_kvedX6l"
      },
      "source": [
        "input_text2"
      ],
      "execution_count": null,
      "outputs": []
    },
    {
      "cell_type": "code",
      "metadata": {
        "id": "xLalTm3Mc2ka"
      },
      "source": [
        "# supports various decoding strategies \n",
        "abs_summ(\n",
        "    input_text2, \n",
        "    beam=5, \n",
        "    len_penalty=0.6,\n",
        "    no_repeat_ngram_size=3,\n",
        "    top_k=50,\n",
        "    top_p=0.7\n",
        ")"
      ],
      "execution_count": null,
      "outputs": []
    },
    {
      "cell_type": "markdown",
      "metadata": {
        "id": "ieQ3QO7xddJD"
      },
      "source": [
        "### 3개의 주요 문장 추출"
      ]
    },
    {
      "cell_type": "code",
      "metadata": {
        "id": "KUiJSuvSdJvD"
      },
      "source": [
        "output_text1 = ext_summ(input_text1)\n",
        "for line in output_text1.split('.'):\n",
        "    print(line)"
      ],
      "execution_count": null,
      "outputs": []
    },
    {
      "cell_type": "code",
      "metadata": {
        "id": "tyq-CEzLcoMN"
      },
      "source": [
        "output_text2 = ext_summ(input_text2)\n",
        "for line in output_text2.split('.'):\n",
        "    print(line)"
      ],
      "execution_count": null,
      "outputs": []
    },
    {
      "cell_type": "markdown",
      "metadata": {
        "id": "3jP6eKqDdf5T"
      },
      "source": [
        "### Bullet 포인트"
      ]
    },
    {
      "cell_type": "code",
      "metadata": {
        "id": "Ja2rwfBQdlVE"
      },
      "source": [
        "# supports various decoding strategies \n",
        "bullet_summ(\n",
        "    input_text1, \n",
        "    beam=5, \n",
        "    len_penalty=0.6,\n",
        "    no_repeat_ngram_size=3,\n",
        "    top_k=50,\n",
        "    top_p=0.7\n",
        ")"
      ],
      "execution_count": null,
      "outputs": []
    },
    {
      "cell_type": "markdown",
      "metadata": {
        "id": "NJOCxO90pzyz"
      },
      "source": [
        "### 신문기사 요약"
      ]
    },
    {
      "cell_type": "code",
      "metadata": {
        "id": "tA4GGkGVp1fO"
      },
      "source": [
        "# 신문기사의 URL\n",
        "url = 'https://news.naver.com/main/read.naver?mode=LSD&mid=shm&sid1=101&oid=009&aid=0004886133'"
      ],
      "execution_count": null,
      "outputs": []
    },
    {
      "cell_type": "markdown",
      "metadata": {
        "id": "acw-SPa1qLAO"
      },
      "source": [
        "뉴스 기사 내용 받아오기"
      ]
    },
    {
      "cell_type": "code",
      "metadata": {
        "id": "zWxDLWp_p6Wl"
      },
      "source": [
        "from bs4 import BeautifulSoup\n",
        "import requests\n",
        "\n",
        "headers = {\"User-Agent\": \"Mozilla/5.0 (Windows NT 10.0; Win64; x64) AppleWebKit/537.36 (KHTML, like Gecko) Chrome/87.0.4280.88 Safari/537.36\"}\n",
        "req = requests.get(url, headers=headers)\n",
        "soup = BeautifulSoup(req.text, 'html.parser')\n",
        "body = soup.find_all(id='articleBodyContents')\n",
        "body[0].text"
      ],
      "execution_count": null,
      "outputs": []
    },
    {
      "cell_type": "code",
      "metadata": {
        "id": "DQsOJsrKqEZV"
      },
      "source": [
        "abs_summ(\n",
        "    body[0].text, \n",
        "    beam=5, \n",
        "    len_penalty=0.6,\n",
        "    no_repeat_ngram_size=3,\n",
        "    top_k=50,\n",
        "    top_p=0.7\n",
        ")"
      ],
      "execution_count": null,
      "outputs": []
    },
    {
      "cell_type": "code",
      "metadata": {
        "id": "UFY9vkFAqgnd"
      },
      "source": [
        "def summerize_news(url):\n",
        "    headers = {\"User-Agent\": \"Mozilla/5.0 (Windows NT 10.0; Win64; x64) AppleWebKit/537.36 (KHTML, like Gecko) Chrome/87.0.4280.88 Safari/537.36\"}\n",
        "    req = requests.get(url, headers=headers)\n",
        "    soup = BeautifulSoup(req.text, 'html.parser')\n",
        "    body = soup.find_all(id='articleBodyContents')\n",
        "    if len(body) > 0:\n",
        "        text = body[0].text\n",
        "        output_bullet = bullet_summ(text, \n",
        "                                    beam=5, \n",
        "                                    len_penalty=0.6,\n",
        "                                    no_repeat_ngram_size=3,\n",
        "                                    top_k=50,\n",
        "                                    top_p=0.7)\n",
        "        summary_output = abs_summ(text, \n",
        "                                  beam=5, \n",
        "                                  len_penalty=0.6,\n",
        "                                  no_repeat_ngram_size=3,\n",
        "                                  top_k=50,\n",
        "                                  top_p=0.7\n",
        "                                  )\n",
        "        print('[주요]')\n",
        "        for line in output_bullet:\n",
        "            print(f'- {line}')\n",
        "        print('[요약]')\n",
        "        print(summary_output)\n",
        "    else:\n",
        "        return \"에러ㅜ\""
      ],
      "execution_count": null,
      "outputs": []
    },
    {
      "cell_type": "code",
      "metadata": {
        "id": "V3Vh9ywCqlQV"
      },
      "source": [
        "summerize_news('https://news.naver.com/main/read.naver?mode=LSD&mid=shm&sid1=101&oid=009&aid=0004886133')"
      ],
      "execution_count": null,
      "outputs": []
    },
    {
      "cell_type": "markdown",
      "metadata": {
        "id": "5PtB1Rxzdn38"
      },
      "source": [
        "## 맞춤법 수정 (Grammar Correction)"
      ]
    },
    {
      "cell_type": "markdown",
      "metadata": {
        "id": "mzYgnXw7tcmt"
      },
      "source": [
        "### 문법 오류 수정"
      ]
    },
    {
      "cell_type": "code",
      "metadata": {
        "id": "U80vW4BHtj7V"
      },
      "source": [
        "# 오류 문장 입력\n",
        "gec(\"This apple are so sweet.\")"
      ],
      "execution_count": null,
      "outputs": []
    },
    {
      "cell_type": "markdown",
      "metadata": {
        "id": "eiaUCJEXtXz9"
      },
      "source": [
        "### 한글 띄어쓰기 오류 수정"
      ]
    },
    {
      "cell_type": "code",
      "metadata": {
        "id": "2B-RMOU0tnik"
      },
      "source": [
        "# 오류 문장 입력\n",
        "spacing(\"아버지가방에들어간다.\")"
      ],
      "execution_count": null,
      "outputs": []
    },
    {
      "cell_type": "markdown",
      "metadata": {
        "id": "CIktHoG9fhzt"
      },
      "source": [
        "## 기계번역 Machine Translation"
      ]
    },
    {
      "cell_type": "code",
      "metadata": {
        "id": "Bv5yr89wfhBz"
      },
      "source": [
        "# mt = Pororo(task=\"translation\", lang=\"multi\")\n",
        "mt(\"케빈은 아직도 일을 하고 있다.\", src=\"ko\", tgt=\"en\")"
      ],
      "execution_count": null,
      "outputs": []
    },
    {
      "cell_type": "markdown",
      "metadata": {
        "id": "EygAGBnZvATu"
      },
      "source": [
        "## 자동 에세이 채점 Automated Essay Scoring"
      ]
    },
    {
      "cell_type": "code",
      "metadata": {
        "id": "EeQlCVZofhX1"
      },
      "source": [
        "# aes = Pororo(task=\"aes\", lang=\"en\")\n",
        "aes('''\n",
        "The lecturer talks about research conducted by a firm that used the group system to handle their work. He says that the theory stated in the passage was very different and somewhat inaccurate when compared to what happened for real.\n",
        "First, some members got free rides. That is, some didn’t work hard but gotrecognition for the success nontheless. This also indicates that people who worked hard was not given recognition they should have got. In other words, they weren’t given the oppotunity to “shine”. This derectly contradicts what the passage indicates.\n",
        "Second, groups were slow in progress. The passage says that groups are nore responsive than individuals because of the number of people involved and their aggregated resources. However, the speaker talks about how the firm found out that groups were slower than individuals in dicision making. Groups needed more time for meetings, which are neccesary procceedures in decision making. This was another part where experience contradicted theory.\n",
        "Third, influetial people might emerge, and lead the group towards glory or failure. If the influent people are going in the right direction there would be no problem. But in cases where they go in the wrong direction, there is nobody that has enough influence to counter the decision made. In other words, the group might turn into a dictatorship, with the influential party as the leader, and might be less flexible in thinking. They might become one-sided, and thus fail to succeed.\n",
        "''')"
      ],
      "execution_count": null,
      "outputs": []
    },
    {
      "cell_type": "code",
      "metadata": {
        "id": "kL6XjTfDfy6z"
      },
      "source": [
        "aes('''\n",
        "Throw out the bottles and boxes of drugs in your house. A new theory suggests that medicine could be bad for your health, which should at least come as good news to people who cannot afford to buy expensive medicine. However, it is a blow to the medicine industry, and an even bigger blow to our confidence in the progress of science. This new theory argues that healing is at our fingertips: we can be healthy by doing Reiki on on a regular basis.\n",
        "''')"
      ],
      "execution_count": null,
      "outputs": []
    },
    {
      "cell_type": "code",
      "metadata": {
        "id": "czG4jAKPf0fR"
      },
      "source": [
        "aes('''\n",
        "Online games aren't just a diversion, but a unique way to meet other people. As millions of gamers demonstrate, playing online is about friendship and cooperation, not just killing monsters. These games are a viable social network because players focus on teamwork, form groups with like-minded people and have romantic relationships with other players. Massively Multiplayer Online Games (MMOGs) feature millions of players interacting in the same environment. The games are social in nature as they allow players to band together and complete missions based on a story line, or test their skills by fighting against each other. At the start of the game, the user creates a fictional character, and customizes its physical appearance. Since many games involve combat, players also outfit their characters with armor and weapons, as well as choose their \"profession.\" Many popular game titles like World of Warcraft and Everquest follow a fantasy theme, so most professions have magical abilities like healing other players or raising undead minions. While the process seems simple, players may spend hours agonizing over the perfect look for their character, from their armor color to the type of skills to use in battle. Once their character is created, the player is free to explore the vast, digital world and interact with other players; however they must pay on average $15 a month for game content. MMOG users are mostly male - usually between the ages of 18-34 - although titles like World of Warcraft have a healthy population of female players as well. With millions of players, there are plenty of people to adventure with.\n",
        "''')"
      ],
      "execution_count": null,
      "outputs": []
    },
    {
      "cell_type": "markdown",
      "metadata": {
        "id": "aVSMPY1xf_Az"
      },
      "source": [
        "## Fill in the blank"
      ]
    },
    {
      "cell_type": "code",
      "metadata": {
        "id": "HWmRVjXPhqgP"
      },
      "source": [
        "fib(\"손흥민은 __의 축구선수이다.\")"
      ],
      "execution_count": null,
      "outputs": []
    },
    {
      "cell_type": "code",
      "metadata": {
        "id": "Phb-pSI-wgzE"
      },
      "source": [
        "fib(\"대한민국의 수도는 __이다.\")"
      ],
      "execution_count": null,
      "outputs": []
    },
    {
      "cell_type": "markdown",
      "metadata": {
        "id": "MIY69R74hqvU"
      },
      "source": [
        "## 이미지 캡션 (Image Captioning)"
      ]
    },
    {
      "cell_type": "code",
      "metadata": {
        "id": "_msyruZegz_A"
      },
      "source": [
        "from IPython.display import Image"
      ],
      "execution_count": null,
      "outputs": []
    },
    {
      "cell_type": "code",
      "metadata": {
        "id": "xYtm1plNh6Hg"
      },
      "source": [
        "url = 'https://i.pinimg.com/originals/b9/de/80/b9de803706fb2f7365e06e688b7cc470.jpg'\n",
        "Image(url, width=750)"
      ],
      "execution_count": null,
      "outputs": []
    },
    {
      "cell_type": "code",
      "metadata": {
        "id": "RfKGiYPIh2Sd"
      },
      "source": [
        "caption(url)"
      ],
      "execution_count": null,
      "outputs": []
    }
  ]
}