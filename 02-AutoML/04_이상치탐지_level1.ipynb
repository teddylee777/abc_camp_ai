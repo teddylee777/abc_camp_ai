{
  "nbformat": 4,
  "nbformat_minor": 5,
  "metadata": {
    "kernelspec": {
      "display_name": "Python 3 (ipykernel)",
      "language": "python",
      "name": "python3"
    },
    "language_info": {
      "codemirror_mode": {
        "name": "ipython",
        "version": 3
      },
      "file_extension": ".py",
      "mimetype": "text/x-python",
      "name": "python",
      "nbconvert_exporter": "python",
      "pygments_lexer": "ipython3",
      "version": "3.7.11"
    },
    "colab": {
      "name": "04-이상치탐지-level1",
      "provenance": [],
      "collapsed_sections": [],
      "machine_shape": "hm"
    }
  },
  "cells": [
    {
      "cell_type": "markdown",
      "metadata": {
        "id": "5ae0e343"
      },
      "source": [
        "## PyCaret 설치"
      ],
      "id": "5ae0e343"
    },
    {
      "cell_type": "code",
      "metadata": {
        "id": "47484d8d"
      },
      "source": [
        "!pip install pycaret"
      ],
      "id": "47484d8d",
      "execution_count": null,
      "outputs": []
    },
    {
      "cell_type": "markdown",
      "metadata": {
        "id": "b26c3873"
      },
      "source": [
        "Google Colab 사용자의 경우 다음의 코드를 실행합니다."
      ],
      "id": "b26c3873"
    },
    {
      "cell_type": "code",
      "metadata": {
        "id": "bce29045"
      },
      "source": [
        "from pycaret.utils import enable_colab\n",
        "\n",
        "enable_colab()"
      ],
      "id": "bce29045",
      "execution_count": null,
      "outputs": []
    },
    {
      "cell_type": "markdown",
      "metadata": {
        "id": "7f4674cd"
      },
      "source": [
        "## 필요한 모듈 import"
      ],
      "id": "7f4674cd"
    },
    {
      "cell_type": "code",
      "metadata": {
        "id": "77da6ea3"
      },
      "source": [
        "import pandas as pd\n",
        "import numpy as np\n",
        "import seaborn as sns\n",
        "\n",
        "pd.options.display.max_columns = None"
      ],
      "id": "77da6ea3",
      "execution_count": null,
      "outputs": []
    },
    {
      "cell_type": "markdown",
      "metadata": {
        "id": "8gUUnpEo9gvR"
      },
      "source": [
        "## 이상치 탐지 알고리즘"
      ],
      "id": "8gUUnpEo9gvR"
    },
    {
      "cell_type": "markdown",
      "metadata": {
        "id": "0PO6gew-9lrB"
      },
      "source": [
        "**이상치 탐지 알고리즘의 활용 분야**\n",
        "\n",
        "- **제조**\n",
        "  - 공정 불량 원인을 감지\n",
        "  - 설비의 이상 동작을 미리 감지/탐지\n",
        "\n",
        "- **금융**\n",
        "  - 신용카드 탈취, 악용 사례 탐지\n",
        "  - 금융 분야의 비정상 거래 탐지 (피싱)\n",
        "\n",
        "- **고객 관리**\n",
        "  - 제품/서비스 고객의 이탈을 사전에 감지\n",
        "\n",
        "- **보안**\n",
        "  - 네트워크 침해사고 예방/탐지\n",
        "\n",
        "- **헬스케어**\n",
        "  - 건강의 이상신호 감지 및 사전 알림\n",
        "\n",
        "- **자연어**\n",
        "  - 소비자 의견 수렴 (독특하고 창의적인 의견 수렴)\n",
        "\n",
        "**관련 캐글 대회/데이터셋**\n",
        "\n",
        "- [신용카드 비정상 사용 탐지](https://www.kaggle.com/mlg-ulb/creditcardfraud)"
      ],
      "id": "0PO6gew-9lrB"
    },
    {
      "cell_type": "markdown",
      "metadata": {
        "id": "73ffae10"
      },
      "source": [
        "## 실습을 위한 데이터셋 로드"
      ],
      "id": "73ffae10"
    },
    {
      "cell_type": "code",
      "metadata": {
        "id": "NNEh2pF7ivJ8"
      },
      "source": [
        "from pycaret.datasets import get_data\n",
        "dataset = get_data('mice')"
      ],
      "id": "NNEh2pF7ivJ8",
      "execution_count": null,
      "outputs": []
    },
    {
      "cell_type": "markdown",
      "metadata": {
        "id": "akCPSS2ySlQ1"
      },
      "source": [
        "이 튜토리얼에서는 `Mice Protein Expression`이라는 UCI의 데이터 세트를 사용합니다. 데이터세트는 피질의 핵 분획에서 감지 가능한 신호를 생성한 77개의 단백질/단백질 변형의 발현 수준으로 구성됩니다. 데이터 세트에는 단백질당 총 1080개의 측정값이 포함되어 있습니다. 각 측정은 독립적인 샘플/마우스로 간주될 수 있습니다."
      ],
      "id": "akCPSS2ySlQ1"
    },
    {
      "cell_type": "code",
      "metadata": {
        "id": "ABMSJgOYtHbB"
      },
      "source": [
        "train = dataset.sample(frac=0.8, random_state=123)\n",
        "test = dataset.drop(train.index)\n",
        "train.reset_index(inplace=True, drop=True)\n",
        "test.reset_index(inplace=True, drop=True)\n",
        "print('학습용 데이터셋: ' + str(train.shape))\n",
        "print('예측용 데이터셋: ' + str(test.shape))"
      ],
      "id": "ABMSJgOYtHbB",
      "execution_count": null,
      "outputs": []
    },
    {
      "cell_type": "markdown",
      "metadata": {
        "id": "6beffef3"
      },
      "source": [
        "## 셋업 setup"
      ],
      "id": "6beffef3"
    },
    {
      "cell_type": "markdown",
      "metadata": {
        "id": "aO28a9eQmR1g"
      },
      "source": [
        "머신러닝 예측 방식에 따라 다음 중 하나를 골라 import 합니다."
      ],
      "id": "aO28a9eQmR1g"
    },
    {
      "cell_type": "code",
      "metadata": {
        "id": "fe755196"
      },
      "source": [
        "# from pycaret.classification import *  # 분류\n",
        "# from pycaret.regression import *      # 회귀\n",
        "# from pycaret.clustering import *      # 군집\n",
        "from pycaret.anomaly import *           # 이상 탐지\n",
        "# from pycaret.arules import *          # 연관 규칙"
      ],
      "id": "fe755196",
      "execution_count": null,
      "outputs": []
    },
    {
      "cell_type": "markdown",
      "metadata": {
        "id": "jkjw5m12s6dR"
      },
      "source": [
        "`MouseID`는 순차적인 단순 ID 값이기 때문에 데이터 분석 및 모델의 학습에서 제외합니다."
      ],
      "id": "jkjw5m12s6dR"
    },
    {
      "cell_type": "code",
      "metadata": {
        "id": "Z7zfUMjjYn95"
      },
      "source": [
        "an = setup(train,\n",
        "           normalize=True,                # 데이터 정규화\n",
        "           ignore_features=['MouseID'],   # 학습에 무시할 컬럼 지정\n",
        "           session_id=123)                # 시드(SEED) 지정"
      ],
      "id": "Z7zfUMjjYn95",
      "execution_count": null,
      "outputs": []
    },
    {
      "cell_type": "markdown",
      "metadata": {
        "id": "5x1cKb5ocPw3"
      },
      "source": [
        "## 모델 생성"
      ],
      "id": "5x1cKb5ocPw3"
    },
    {
      "cell_type": "markdown",
      "metadata": {
        "id": "0KLZtRMDcaSm"
      },
      "source": [
        "**`iforest` 모델**\n",
        "\n"
      ],
      "id": "0KLZtRMDcaSm"
    },
    {
      "cell_type": "code",
      "metadata": {
        "id": "tbIJAJui8--6"
      },
      "source": [
        "from IPython.display import Image\n",
        "\n",
        "Image(url='https://miro.medium.com/max/1400/1*4P2vi2YVj4nHbU5SZ9i7Ig.png', width=750)"
      ],
      "id": "tbIJAJui8--6",
      "execution_count": null,
      "outputs": []
    },
    {
      "cell_type": "code",
      "metadata": {
        "id": "JHaEqwiMsRPS"
      },
      "source": [
        "# isolation forest 모델 생성\n",
        "iforest = create_model('iforest')"
      ],
      "id": "JHaEqwiMsRPS",
      "execution_count": null,
      "outputs": []
    },
    {
      "cell_type": "markdown",
      "metadata": {
        "id": "Zd2SWXF_d8Pu"
      },
      "source": [
        "## 이상치 탐지 assign_model\n",
        "\n"
      ],
      "id": "Zd2SWXF_d8Pu"
    },
    {
      "cell_type": "code",
      "metadata": {
        "id": "zsvQ8jHEcUwW"
      },
      "source": [
        "iforest_results = assign_model(iforest)\n",
        "iforest_results.head()"
      ],
      "id": "zsvQ8jHEcUwW",
      "execution_count": null,
      "outputs": []
    },
    {
      "cell_type": "markdown",
      "metadata": {
        "id": "eQeHWQyiszuK"
      },
      "source": [
        "## 결과 시각화"
      ],
      "id": "eQeHWQyiszuK"
    },
    {
      "cell_type": "code",
      "metadata": {
        "id": "EWFd5nfzdvfX"
      },
      "source": [
        "plot_model(iforest)"
      ],
      "id": "EWFd5nfzdvfX",
      "execution_count": null,
      "outputs": []
    },
    {
      "cell_type": "markdown",
      "metadata": {
        "id": "R0iLlgkzswQq"
      },
      "source": [
        "## 예측 predict_model"
      ],
      "id": "R0iLlgkzswQq"
    },
    {
      "cell_type": "code",
      "metadata": {
        "id": "pzsEmzGtspHJ"
      },
      "source": [
        "predicitons = predict_model(iforest, data=test)\n",
        "predicitons[['MouseID', 'Anomaly', 'Anomaly_Score']]"
      ],
      "id": "pzsEmzGtspHJ",
      "execution_count": null,
      "outputs": []
    }
  ]
}