{
 "cells": [
  {
   "cell_type": "markdown",
   "metadata": {
    "id": "kv1mpVJKTUxW"
   },
   "source": [
    "# 최소제곱법 (Least Ordinary Squares)"
   ]
  },
  {
   "cell_type": "markdown",
   "metadata": {
    "id": "0PKvBhsFTUxX"
   },
   "source": [
    "최소제곱법, 또는 최소자승법, 최소제곱근사법, 최소자승근사법(method of least squares, least squares approximation)은 **어떤 계의 해방정식을 근사적으로 구하는 방법**으로, 근사적으로 구하려는 해와 **실제 해의 오차의 제곱의 합이 최소가 되는 해**를 구하는 방법입니다."
   ]
  },
  {
   "cell_type": "code",
   "execution_count": null,
   "metadata": {},
   "outputs": [],
   "source": [
    "import warnings\n",
    "import numpy as np\n",
    "import matplotlib.pyplot as plt\n",
    "\n",
    "# 경고 메시지 출력 표기 생략\n",
    "warnings.filterwarnings('ignore')"
   ]
  },
  {
   "cell_type": "markdown",
   "metadata": {},
   "source": [
    "## 최소제곱법 공식유도"
   ]
  },
  {
   "cell_type": "code",
   "execution_count": null,
   "metadata": {},
   "outputs": [],
   "source": [
    "from IPython.display import YouTubeVideo\n",
    "\n",
    "YouTubeVideo('-oBmMED_5rI', width=480)"
   ]
  },
  {
   "cell_type": "markdown",
   "metadata": {
    "id": "YwFLwLcsTUxY"
   },
   "source": [
    "## 샘플 데이터를 생성합니다."
   ]
  },
  {
   "cell_type": "code",
   "execution_count": null,
   "metadata": {
    "id": "Uqz8eppFYogY"
   },
   "outputs": [],
   "source": [
    "def make_linear(w=0.5, b=0.8, size=50, noise=1.0):\n",
    "    x = np.arange(size)\n",
    "    y = w * x + b\n",
    "    noise = np.random.uniform(-abs(noise), abs(noise), size=y.shape)\n",
    "    yy = y + noise\n",
    "    plt.figure(figsize=(10, 7))\n",
    "    plt.plot(x, y, color='r', label=f'y = {w}x + {b}')\n",
    "    plt.scatter(x, yy, label='data')\n",
    "    plt.legend(fontsize=15)\n",
    "    plt.show()\n",
    "    print(f'w: {w}, b: {b}')\n",
    "    return x, yy"
   ]
  },
  {
   "cell_type": "markdown",
   "metadata": {},
   "source": [
    "- `x, y`: 생성된 실제 x, y 값\n",
    "- `빨간실선`: 회귀선"
   ]
  },
  {
   "cell_type": "code",
   "execution_count": null,
   "metadata": {
    "colab": {
     "base_uri": "https://localhost:8080/",
     "height": 465
    },
    "id": "xE6SpxFOZKYL",
    "outputId": "f0b6fe0d-0afa-44ef-aa52-45dc62aea634"
   },
   "outputs": [],
   "source": [
    "x, y = make_linear(size=100, w=0.3, b=0.8, noise=0.5)"
   ]
  },
  {
   "cell_type": "markdown",
   "metadata": {
    "id": "ll9uXNLcTUxn"
   },
   "source": [
    "## Python 코드로 구현"
   ]
  },
  {
   "cell_type": "markdown",
   "metadata": {
    "id": "7Cv4evv4TUxn"
   },
   "source": [
    "### 최소제곱법 (Least Square) 공식\n",
    "\n",
    "**RSS(Residual Sum of Square)**\n",
    "\n",
    "실제 값(y)과 가설($\\hat{y}$)에 의한 예측 값의 차이가 가장 작은 계수 계산\n",
    "\n",
    "선형함수: \n",
    "\n",
    "$\\Large y = wx + b$일때,\n",
    "\n",
    "- $\\Large w = \\Large\\frac{\\sum(x-\\bar{x})(y-\\bar{y})}{\\sum(x-\\bar{x})^{2}}$\n",
    "\n",
    "- $\\Large b = \\Large\\bar{y} - w\\bar{x}$"
   ]
  },
  {
   "cell_type": "markdown",
   "metadata": {
    "id": "_12CB3vBV7rG"
   },
   "source": [
    "- `x_bar` 변수에는 x에 대한 평균을 구합니다.\n",
    "- `y_bar` 변수에는 y에 대한 평균을 구합니다."
   ]
  },
  {
   "cell_type": "code",
   "execution_count": null,
   "metadata": {
    "id": "AF1T-hqAXfPR"
   },
   "outputs": [
    {
     "name": "stdout",
     "output_type": "stream",
     "text": []
    }
   ],
   "source": [
    "# 코드를 입력해 주세요\n",
    "x_bar = \n",
    "y_bar = \n",
    "\n",
    "print(f'x_bar: {x_bar}, y_bar: {y_bar}')"
   ]
  },
  {
   "cell_type": "markdown",
   "metadata": {},
   "source": [
    "<p><strong>[출력 결과]</strong></p><pre>x_bar: 49.5, y_bar: 15.64095304335489\n",
    "</pre>"
   ]
  },
  {
   "cell_type": "markdown",
   "metadata": {
    "id": "gz6LaMCMX5I5"
   },
   "source": [
    "### w의 계수 값 찾기"
   ]
  },
  {
   "cell_type": "markdown",
   "metadata": {
    "id": "qsdyd_myTUxq"
   },
   "source": [
    "$\\Large w = \\Large\\frac{\\sum(x-\\bar{x})(y-\\bar{y})}{\\sum(x-\\bar{x})^{2}}$"
   ]
  },
  {
   "cell_type": "markdown",
   "metadata": {},
   "source": [
    "w를 계산하여 `calcaulated_weight`에 대입 합니다."
   ]
  },
  {
   "cell_type": "code",
   "execution_count": null,
   "metadata": {
    "colab": {
     "base_uri": "https://localhost:8080/",
     "height": 35
    },
    "id": "r2dml356XnfU",
    "outputId": "c2db0445-33c8-43e9-97e3-755e24d27c3f"
   },
   "outputs": [],
   "source": [
    "# 코드를 입력해 주세요\n",
    "calculated_weight = "
   ]
  },
  {
   "cell_type": "code",
   "execution_count": null,
   "metadata": {
    "colab": {
     "base_uri": "https://localhost:8080/",
     "height": 35
    },
    "id": "r2dml356XnfU",
    "outputId": "c2db0445-33c8-43e9-97e3-755e24d27c3f"
   },
   "outputs": [
    {
     "name": "stdout",
     "output_type": "stream",
     "text": []
    }
   ],
   "source": [
    "# 코드검증\n",
    "print('w: {:.1f}'.format(calculated_weight))"
   ]
  },
  {
   "cell_type": "markdown",
   "metadata": {},
   "source": [
    "<p><strong>[출력 결과]</strong></p><pre>w: 0.3\n",
    "</pre>"
   ]
  },
  {
   "cell_type": "markdown",
   "metadata": {
    "id": "1IzCd3FsX1sN"
   },
   "source": [
    "### b의 계수 값 구현\n"
   ]
  },
  {
   "cell_type": "markdown",
   "metadata": {
    "id": "O12zuIw_TUxs"
   },
   "source": [
    "$\\Large b = \\Large \\bar{y} - w\\bar{x}$"
   ]
  },
  {
   "cell_type": "markdown",
   "metadata": {},
   "source": [
    "`calculated_bias` 변수 생성 후 계산된 결과를 대입하세요"
   ]
  },
  {
   "cell_type": "code",
   "execution_count": null,
   "metadata": {
    "id": "GFi7OtN5YLOk"
   },
   "outputs": [],
   "source": [
    "# 코드를 입력해 주세요\n",
    "calculated_bias = "
   ]
  },
  {
   "cell_type": "code",
   "execution_count": null,
   "metadata": {
    "colab": {
     "base_uri": "https://localhost:8080/",
     "height": 35
    },
    "id": "VxHgbEwgYTb2",
    "outputId": "d26d0fc0-24db-46e5-9559-4b89804c33d4"
   },
   "outputs": [
    {
     "name": "stdout",
     "output_type": "stream",
     "text": []
    }
   ],
   "source": [
    "# 코드검증\n",
    "print('b: {:.1f}'.format(calculated_bias))"
   ]
  },
  {
   "cell_type": "markdown",
   "metadata": {},
   "source": [
    "<p><strong>[출력 결과]</strong></p><pre>b: 0.7\n",
    "</pre>"
   ]
  },
  {
   "cell_type": "code",
   "execution_count": null,
   "metadata": {
    "id": "TpcbujUnQrQf",
    "outputId": "703cb15e-5ea2-4dc5-8a41-a17050dc10e1"
   },
   "outputs": [],
   "source": [
    "# 최종 결과\n",
    "print('w: {:.1f}, b: {:.1f}'.format(calculated_weight, calculated_bias))"
   ]
  },
  {
   "cell_type": "markdown",
   "metadata": {
    "id": "Ap5iS59LYZbP"
   },
   "source": [
    "### 노이즈 값을 증가 시켰을 때"
   ]
  },
  {
   "cell_type": "markdown",
   "metadata": {
    "id": "y6u6xnk3TUxz"
   },
   "source": [
    "최소제곱법은 **노이즈에 취약하다는 단점**이 있습니다.\n",
    "\n",
    "이를 직접 눈으로 확인해 보도록 하겠습니다."
   ]
  },
  {
   "cell_type": "code",
   "execution_count": null,
   "metadata": {
    "colab": {
     "base_uri": "https://localhost:8080/",
     "height": 465
    },
    "id": "vXaW9G2YQqA7",
    "outputId": "9cc4178d-ed79-4506-f833-409c0ec4d222"
   },
   "outputs": [],
   "source": [
    "x, y = make_linear(size=100, w=0.3, b=0.8, noise=0.5)\n",
    "\n",
    "# 임의로 2개의 outlier를 추가해 보도록 하겠습니다.\n",
    "y[5]=20\n",
    "y[10]=20\n",
    "\n",
    "plt.figure(figsize=(10, 7))\n",
    "plt.scatter(x, y)\n",
    "plt.show()"
   ]
  },
  {
   "cell_type": "code",
   "execution_count": null,
   "metadata": {},
   "outputs": [
    {
     "name": "stdout",
     "output_type": "stream",
     "text": []
    }
   ],
   "source": [
    "x_bar = x.mean()\n",
    "y_bar = y.mean()\n",
    "\n",
    "calculated_weight = ((x - x_bar) * (y - y_bar)).sum() / ((x - x_bar)**2).sum()\n",
    "calculated_bias = y_bar - calculated_weight * x_bar\n",
    "\n",
    "# 최종 결과\n",
    "print('w: {:.1f}, b: {:.1f}'.format(calculated_weight, calculated_bias))"
   ]
  },
  {
   "cell_type": "markdown",
   "metadata": {},
   "source": [
    "<p><strong>[출력 결과]</strong></p><pre>w: 0.3, b: 2.0\n",
    "</pre>"
   ]
  },
  {
   "cell_type": "markdown",
   "metadata": {},
   "source": [
    "## Linear Regression 데모"
   ]
  },
  {
   "cell_type": "markdown",
   "metadata": {},
   "source": [
    "[Linear Regression 데모](https://www.geogebra.org/m/AuRrgqNV)"
   ]
  }
 ],
 "metadata": {
  "colab": {
   "collapsed_sections": [],
   "name": "01-최소제곱법-(OrdinaryLeastSquares)-(실습)-Copy1-변환",
   "provenance": []
  },
  "kernelspec": {
   "display_name": "Python 3 (ipykernel)",
   "language": "python",
   "name": "python3"
  },
  "language_info": {
   "codemirror_mode": {
    "name": "ipython",
    "version": 3
   },
   "file_extension": ".py",
   "mimetype": "text/x-python",
   "name": "python",
   "nbconvert_exporter": "python",
   "pygments_lexer": "ipython3",
   "version": "3.7.10"
  }
 },
 "nbformat": 4,
 "nbformat_minor": 1
}
