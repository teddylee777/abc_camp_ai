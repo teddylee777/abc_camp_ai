{
 "cells": [
  {
   "cell_type": "code",
   "execution_count": 2,
   "metadata": {
    "id": "1cWkghx3RFGh"
   },
   "outputs": [],
   "source": [
    "from IPython.display import Image\n",
    "import numpy as np\n",
    "import pandas as pd\n",
    "import matplotlib.pyplot as plt\n",
    "import seaborn as sns\n",
    "import warnings\n",
    "\n",
    "# 경고 메시지 출력 표기 생략\n",
    "warnings.filterwarnings('ignore')\n",
    "\n",
    "# unicode 에러\n",
    "plt.rcParams['axes.unicode_minus'] = False"
   ]
  },
  {
   "cell_type": "markdown",
   "metadata": {
    "id": "T-QQ0XVTQ91J"
   },
   "source": [
    "# 분류 (Classification)"
   ]
  },
  {
   "cell_type": "markdown",
   "metadata": {
    "id": "cEMQoty0RCVc"
   },
   "source": [
    "## K Nearest Neighbors (k-최근접 이웃 분류 알고리즘)"
   ]
  },
  {
   "cell_type": "markdown",
   "metadata": {
    "id": "FhAahW-Pk0eI"
   },
   "source": [
    "가장 중요한 hyperparameter인 **K**값은 근처에 참고(reference)할 **이웃의 숫자**"
   ]
  },
  {
   "cell_type": "markdown",
   "metadata": {
    "id": "_HV_AON2k0eJ"
   },
   "source": [
    "- k-최근접 이웃 분류 알고리즘\n",
    "- 가장 고전적이고 직관적인 머신러닝 분류 알고리즘\n",
    "- 기하학적 거리 분류기\n",
    "- 가장 **가깝게 위치하는 멤버로 분류**하는 방식"
   ]
  },
  {
   "cell_type": "code",
   "execution_count": 3,
   "metadata": {
    "id": "H3rT6Nkfk0eJ",
    "outputId": "3b0ce365-4344-4010-a299-5dec0831e6b8"
   },
   "outputs": [
    {
     "data": {
      "text/html": [
       "<img src=\"https://miro.medium.com/max/405/0*QyWp7J6eSz0tayc0.png\" width=\"500\"/>"
      ],
      "text/plain": [
       "<IPython.core.display.Image object>"
      ]
     },
     "execution_count": 3,
     "metadata": {},
     "output_type": "execute_result"
    }
   ],
   "source": [
    "Image(url='https://miro.medium.com/max/405/0*QyWp7J6eSz0tayc0.png', width=500)"
   ]
  },
  {
   "cell_type": "markdown",
   "metadata": {
    "id": "3rc_3G2uRVqw"
   },
   "source": [
    "## KNN 알고리즘을 활용하여 Iris 꽃 종류 예측"
   ]
  },
  {
   "cell_type": "code",
   "execution_count": null,
   "metadata": {
    "id": "sCSjEMovSoCR"
   },
   "outputs": [],
   "source": [
    "from sklearn.datasets import load_iris\n",
    "\n",
    "# iris 데이터 로드\n",
    "iris = load_iris()\n",
    "\n",
    "df = pd.DataFrame(iris['data'], columns=iris['feature_names'])\n",
    "df['target'] = iris['target']\n",
    "df.head()"
   ]
  },
  {
   "cell_type": "markdown",
   "metadata": {
    "id": "nCBsm5YEVlH9"
   },
   "source": [
    "## 데이터 셋 분할"
   ]
  },
  {
   "cell_type": "markdown",
   "metadata": {
    "id": "fgShO0jTk0eX"
   },
   "source": [
    "학습용(train) 데이터셋과 검증 (혹은 테스트)용 데이터 셋을 분할 합니다."
   ]
  },
  {
   "cell_type": "code",
   "execution_count": null,
   "metadata": {
    "id": "994h8nWyZT3n"
   },
   "outputs": [],
   "source": [
    "from sklearn.model_selection import train_test_split\n",
    "\n",
    "SEED = 123"
   ]
  },
  {
   "cell_type": "markdown",
   "metadata": {},
   "source": [
    "- `random_state`에 SEED(123) 적용\n",
    "- `test_size`는 0.1 로 설정\n",
    "- `stratify` 옵션 지정"
   ]
  },
  {
   "cell_type": "code",
   "execution_count": null,
   "metadata": {
    "id": "QAKP-grlZYhD"
   },
   "outputs": [],
   "source": [
    "# 코드를 입력해 주세요\n",
    " ,  ,  ,  = "
   ]
  },
  {
   "cell_type": "code",
   "execution_count": null,
   "metadata": {
    "colab": {
     "base_uri": "https://localhost:8080/",
     "height": 35
    },
    "id": "m9gbpWSOZpCc",
    "outputId": "248f7d77-3bf5-4bf6-a05b-8092e92c73ce"
   },
   "outputs": [],
   "source": [
    "# 코드를 입력해 주세요\n",
    "x_train.shape, x_test.shape"
   ]
  },
  {
   "cell_type": "markdown",
   "metadata": {
    "id": "yZuWLIp-Zuqs"
   },
   "source": [
    "### 모델 정의"
   ]
  },
  {
   "cell_type": "markdown",
   "metadata": {
    "id": "eKxX35bkk0ed"
   },
   "source": [
    "`KNeighborsClassifier`를 정의 합니다.\n",
    "\n",
    "핵심 hyperparameter 인 `n_neighbors=5`로 기본 지정되어 있습니다."
   ]
  },
  {
   "cell_type": "code",
   "execution_count": null,
   "metadata": {},
   "outputs": [],
   "source": [
    "from sklearn.neighbors import KNeighborsClassifier"
   ]
  },
  {
   "cell_type": "code",
   "execution_count": null,
   "metadata": {
    "id": "fs6khtgGZsI8"
   },
   "outputs": [],
   "source": [
    "# 코드를 입력해 주세요\n",
    "knn = "
   ]
  },
  {
   "cell_type": "markdown",
   "metadata": {
    "id": "7TmM9j3-ZySH"
   },
   "source": [
    "### 학습 (fit)"
   ]
  },
  {
   "cell_type": "code",
   "execution_count": null,
   "metadata": {
    "colab": {
     "base_uri": "https://localhost:8080/",
     "height": 69
    },
    "id": "9GGFrR-cZzps",
    "outputId": "1a7928d2-f936-4e2c-b3e3-2aeed9ec5733"
   },
   "outputs": [],
   "source": [
    "# 코드를 입력해 주세요\n",
    "knn."
   ]
  },
  {
   "cell_type": "markdown",
   "metadata": {
    "id": "nwx2j2HxaNfV"
   },
   "source": [
    "### 예측 (predict)"
   ]
  },
  {
   "cell_type": "code",
   "execution_count": null,
   "metadata": {
    "id": "IWPKTrb2Z10L"
   },
   "outputs": [],
   "source": [
    "# 코드를 입력해 주세요\n",
    "prediction = "
   ]
  },
  {
   "cell_type": "markdown",
   "metadata": {
    "id": "RmzBxLlgaQq1"
   },
   "source": [
    "### 검증 (evaluation)"
   ]
  },
  {
   "cell_type": "markdown",
   "metadata": {
    "id": "sERcDxh-k0ek"
   },
   "source": [
    "정확도 (Accuracy) 산출"
   ]
  },
  {
   "cell_type": "code",
   "execution_count": null,
   "metadata": {
    "colab": {
     "base_uri": "https://localhost:8080/",
     "height": 35
    },
    "id": "3FnUvsNtaTN7",
    "outputId": "4fb83f33-d5a7-4112-d798-5130b07f86b2"
   },
   "outputs": [],
   "source": [
    "# 코드를 입력해 주세요\n"
   ]
  },
  {
   "cell_type": "markdown",
   "metadata": {
    "id": "oPDmQE0JaWEr"
   },
   "source": [
    "### 최적의 n_neighbors 찾기"
   ]
  },
  {
   "cell_type": "markdown",
   "metadata": {},
   "source": [
    "- `k=1` ~ `k=10`까지의 정확도를 출력"
   ]
  },
  {
   "cell_type": "code",
   "execution_count": null,
   "metadata": {
    "colab": {
     "base_uri": "https://localhost:8080/",
     "height": 190
    },
    "id": "T7wBOqwjbmVq",
    "outputId": "2d428ea4-ed56-4135-ff33-b09d3f4ac6de"
   },
   "outputs": [],
   "source": [
    "# 코드를 입력해 주세요\n",
    "\n",
    "\n"
   ]
  }
 ],
 "metadata": {
  "colab": {
   "collapsed_sections": [],
   "name": "05-분류 (Classifications) (해설)",
   "provenance": []
  },
  "kernelspec": {
   "display_name": "Python 3",
   "language": "python",
   "name": "python3"
  },
  "language_info": {
   "codemirror_mode": {
    "name": "ipython",
    "version": 3
   },
   "file_extension": ".py",
   "mimetype": "text/x-python",
   "name": "python",
   "nbconvert_exporter": "python",
   "pygments_lexer": "ipython3",
   "version": "3.7.10"
  }
 },
 "nbformat": 4,
 "nbformat_minor": 1
}
