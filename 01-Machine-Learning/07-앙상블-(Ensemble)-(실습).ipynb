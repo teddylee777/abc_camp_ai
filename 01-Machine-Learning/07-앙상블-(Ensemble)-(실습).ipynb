{
 "cells": [
  {
   "cell_type": "markdown",
   "metadata": {
    "id": "4w25biB_5-G4"
   },
   "source": [
    "# 앙상블(Ensemble)"
   ]
  },
  {
   "cell_type": "markdown",
   "metadata": {
    "id": "5Y_f-BWX6CCA"
   },
   "source": [
    "머신러닝 앙상블이란 **여러개의 머신러닝 모델을 이용해 최적의 답을 찾아내는 기법**이다.\n",
    "\n",
    "- 여러 모델을 이용하여 데이터를 학습하고, 모든 모델의 예측결과를 평균하여 예측\n",
    "\n",
    "**앙상블 기법의 종류**\n",
    "- 보팅 (Voting): 투표를 통해 결과 도출\n",
    "- 배깅 (Bagging): 샘플 중복 생성을 통해 결과 도출\n",
    "- 부스팅 (Boosting): 이전 오차를 보완하면서 가중치 부여\n",
    "- 스태킹 (Stacking): 여러 모델을 기반으로 예측된 결과를 통해 meta 모델이 다시 한번 예측"
   ]
  },
  {
   "cell_type": "markdown",
   "metadata": {
    "id": "TGSoxHd8RLNc"
   },
   "source": [
    "**참고자료 (블로그)**\n",
    "\n",
    "* [보팅(Voting)](https://teddylee777.github.io/machine-learning/ensemble%EA%B8%B0%EB%B2%95%EC%97%90-%EB%8C%80%ED%95%9C-%EC%9D%B4%ED%95%B4%EC%99%80-%EC%A2%85%EB%A5%98-1)\n",
    "* [배깅(Bagging)](https://teddylee777.github.io/machine-learning/ensemble%EA%B8%B0%EB%B2%95%EC%97%90-%EB%8C%80%ED%95%9C-%EC%9D%B4%ED%95%B4%EC%99%80-%EC%A2%85%EB%A5%98-2)\n",
    "* [부스팅(Boosting)](https://teddylee777.github.io/machine-learning/ensemble%EA%B8%B0%EB%B2%95%EC%97%90-%EB%8C%80%ED%95%9C-%EC%9D%B4%ED%95%B4%EC%99%80-%EC%A2%85%EB%A5%98-3)"
   ]
  },
  {
   "cell_type": "markdown",
   "metadata": {
    "id": "jnqYDATsRdyk"
   },
   "source": [
    "## 실습을 위한 데이터셋 로드"
   ]
  },
  {
   "cell_type": "code",
   "execution_count": null,
   "metadata": {
    "colab": {
     "base_uri": "https://localhost:8080/",
     "height": 73
    },
    "id": "4ozZxnwpv7Dg",
    "outputId": "7c7e2665-adb4-4287-9450-2a7ff3fbc790"
   },
   "outputs": [],
   "source": [
    "# 튜토리얼 진행을 위한 모듈 import\n",
    "import pandas as pd\n",
    "import numpy as np\n",
    "import matplotlib.pyplot as plt\n",
    "import seaborn as sns\n",
    "from IPython.display import Image\n",
    "import warnings\n",
    "\n",
    "# 경고 메시지 출력 표기 생략\n",
    "warnings.filterwarnings('ignore')\n",
    "\n",
    "np.set_printoptions(suppress=True, precision=3)\n",
    "\n",
    "# SEED 설정\n",
    "SEED = 30"
   ]
  },
  {
   "cell_type": "markdown",
   "metadata": {},
   "source": [
    "보스톤 주택 가격 데이터셋을 로드합니다."
   ]
  },
  {
   "cell_type": "code",
   "execution_count": null,
   "metadata": {
    "id": "Og6aM-_7wIEG"
   },
   "outputs": [],
   "source": [
    "from sklearn.datasets import load_boston\n",
    "\n",
    "data = load_boston()\n",
    "\n",
    "df = pd.DataFrame(data['data'], columns=data['feature_names'])\n",
    "df['target'] = data['target']\n",
    "df.head()"
   ]
  },
  {
   "cell_type": "markdown",
   "metadata": {
    "id": "2OJKxGHGQyra"
   },
   "source": [
    "**컬럼 소개**\n",
    "\n",
    "속성 수 : 13\n",
    "\n",
    "* **CRIM**: 자치시 별 범죄율\n",
    "* **ZN**: 25,000 평방 피트를 초과하는 주거용 토지의 비율\n",
    "* **INDUS**: 비소매(non-retail) 비즈니스 토지 비율\n",
    "* **CHAS**: 찰스 강과 인접한 경우에 대한 더비 변수 (1= 인접, 0= 인접하지 않음)\n",
    "* **NOX**: 산화 질소 농도 (10ppm)\n",
    "* **RM**:주택당 평균 객실 수\n",
    "* **AGE**: 1940 년 이전에 건축된 자가소유 점유 비율\n",
    "* **DIS**: 5 개의 보스턴 고용 센터까지의 가중 거리     \n",
    "* **RAD**: 고속도로 접근성 지수\n",
    "* **TAX**: 10,000 달러 당 전체 가치 재산 세율\n",
    "* **PTRATIO**  도시별 학생-교사 비율\n",
    "* **B**: 인구당 흑인의 비율. 1000(Bk - 0.63)^2, (Bk는 흑인의 비율을 뜻함)\n",
    "* **LSTAT**: 하위 계층의 비율\n",
    "* **target**: 자가 주택의 중앙값 (1,000 달러 단위)"
   ]
  },
  {
   "cell_type": "markdown",
   "metadata": {
    "id": "2sMNMyyjEGD2"
   },
   "source": [
    "**train / test 데이터를 분할** 합니다."
   ]
  },
  {
   "cell_type": "code",
   "execution_count": null,
   "metadata": {
    "id": "Jt8fMUFYELEQ"
   },
   "outputs": [],
   "source": [
    "from sklearn.model_selection import train_test_split"
   ]
  },
  {
   "cell_type": "markdown",
   "metadata": {},
   "source": [
    "- random_state=SEED로 설정합니다.\n",
    "- 나머지 설정은 default로 설정합니다."
   ]
  },
  {
   "cell_type": "code",
   "execution_count": null,
   "metadata": {
    "id": "CiT58Hq3EK-l"
   },
   "outputs": [],
   "source": [
    "# 코드를 입력해 주세요\n",
    "x_train, x_test, y_train, y_test = "
   ]
  },
  {
   "cell_type": "markdown",
   "metadata": {},
   "source": [
    "`x_train`, 과 `x_test`의 shape 확인"
   ]
  },
  {
   "cell_type": "code",
   "execution_count": null,
   "metadata": {
    "colab": {
     "base_uri": "https://localhost:8080/",
     "height": 35
    },
    "id": "vCfOM_LDviy6",
    "outputId": "bfe21257-3854-453d-856e-816005f0327e"
   },
   "outputs": [],
   "source": [
    "# 코드검증\n",
    "x_train.shape, x_test.shape"
   ]
  },
  {
   "cell_type": "code",
   "execution_count": null,
   "metadata": {
    "colab": {
     "base_uri": "https://localhost:8080/",
     "height": 204
    },
    "id": "FKXrkYuSvqWk",
    "outputId": "871d9752-4c25-4b19-def3-0abb50d61295"
   },
   "outputs": [],
   "source": [
    "# 코드검증\n",
    "x_train.head()"
   ]
  },
  {
   "cell_type": "code",
   "execution_count": null,
   "metadata": {
    "colab": {
     "base_uri": "https://localhost:8080/",
     "height": 125
    },
    "id": "NmdGmCH_Mw1x",
    "outputId": "98f95c4f-6a3b-4d7b-8d1f-9e546f734761"
   },
   "outputs": [],
   "source": [
    "# 코드검증\n",
    "y_train.head()"
   ]
  },
  {
   "cell_type": "markdown",
   "metadata": {
    "id": "Yt9pqvyOGW0N"
   },
   "source": [
    "## 모델별 성능 확인을 위한 함수"
   ]
  },
  {
   "cell_type": "code",
   "execution_count": null,
   "metadata": {},
   "outputs": [],
   "source": [
    "# 모듈 설치\n",
    "!pip install --upgrade teddynote -q"
   ]
  },
  {
   "cell_type": "code",
   "execution_count": null,
   "metadata": {
    "id": "gwA1iqfDGWkw"
   },
   "outputs": [],
   "source": [
    "from teddynote import utils\n",
    "\n",
    "# 그래프 사이즈 설정\n",
    "utils.set_plot_options(figsize=(12, 10))\n",
    "\n",
    "# MSE 에러 설정\n",
    "utils.set_plot_error('mse')"
   ]
  },
  {
   "cell_type": "markdown",
   "metadata": {
    "id": "qJmSsQ2yv0oV"
   },
   "source": [
    "## 단일 회귀예측 모델"
   ]
  },
  {
   "cell_type": "code",
   "execution_count": null,
   "metadata": {
    "id": "y2cYsPENv_q0"
   },
   "outputs": [],
   "source": [
    "from sklearn.linear_model import LinearRegression\n",
    "from sklearn.linear_model import Ridge\n",
    "from sklearn.linear_model import Lasso\n",
    "from sklearn.linear_model import ElasticNet\n",
    "from sklearn.preprocessing import StandardScaler, MinMaxScaler\n",
    "from sklearn.pipeline import make_pipeline\n",
    "from sklearn.preprocessing import PolynomialFeatures"
   ]
  },
  {
   "cell_type": "markdown",
   "metadata": {
    "id": "EbHRZ4rJb6yF"
   },
   "source": [
    "### LinearRegression"
   ]
  },
  {
   "cell_type": "markdown",
   "metadata": {
    "id": "Fb55z8l9b6yF"
   },
   "source": [
    "- 기본 옵션 값을 사용하여 학습합니다."
   ]
  },
  {
   "cell_type": "code",
   "execution_count": null,
   "metadata": {
    "colab": {
     "base_uri": "https://localhost:8080/",
     "height": 613
    },
    "id": "1nBUN6VWwFB7",
    "outputId": "4d931be3-75c7-4048-8324-6a6e0b5205e1"
   },
   "outputs": [],
   "source": [
    "# 코드를 입력해 주세요\n",
    "linear_reg = \n",
    "linear_reg.\n",
    "pred = \n",
    "utils.plot_error('LinearRegression', y_test, pred)"
   ]
  },
  {
   "cell_type": "markdown",
   "metadata": {
    "id": "lNIKan4Tb6yH"
   },
   "source": [
    "### Ridge"
   ]
  },
  {
   "cell_type": "markdown",
   "metadata": {
    "id": "gD-N7bvRb6yI"
   },
   "source": [
    "- 규제 계수인 `alpha=0.1`을 적용합니다."
   ]
  },
  {
   "cell_type": "code",
   "execution_count": null,
   "metadata": {
    "colab": {
     "base_uri": "https://localhost:8080/",
     "height": 658
    },
    "id": "gyNqasVUPpoV",
    "outputId": "9316a3c0-e46e-4939-9944-46953dcaffc5"
   },
   "outputs": [],
   "source": [
    "# 코드를 입력해 주세요\n",
    "ridge = \n",
    "ridge.\n",
    "pred = \n",
    "utils.plot_error('Ridge(alpha=0.1)', y_test, pred)"
   ]
  },
  {
   "cell_type": "markdown",
   "metadata": {
    "id": "A4MznshQb6yK"
   },
   "source": [
    "### Lasso"
   ]
  },
  {
   "cell_type": "markdown",
   "metadata": {
    "id": "y99m65nIb6yK"
   },
   "source": [
    "- 규제 계수인 `alpha=0.01`로 적용합니다."
   ]
  },
  {
   "cell_type": "code",
   "execution_count": null,
   "metadata": {
    "colab": {
     "base_uri": "https://localhost:8080/",
     "height": 703
    },
    "id": "_oCb4WP2BFHH",
    "outputId": "ce359a47-058e-4958-ba22-df0bc6cd3bdb"
   },
   "outputs": [],
   "source": [
    "# 코드를 입력해 주세요\n",
    "lasso = \n",
    "lasso.\n",
    "pred = \n",
    "utils.plot_error('Lasso(alpha=0.01)', y_test, pred)"
   ]
  },
  {
   "cell_type": "markdown",
   "metadata": {
    "id": "B1bt8_Esb6yM"
   },
   "source": [
    "### ElasticNet"
   ]
  },
  {
   "cell_type": "markdown",
   "metadata": {
    "id": "lRAlM-98b6yN"
   },
   "source": [
    "- 규제 계수인 `alpha=0.001`, `l1_ratio=0.8`을 적용합니다."
   ]
  },
  {
   "cell_type": "code",
   "execution_count": null,
   "metadata": {
    "colab": {
     "base_uri": "https://localhost:8080/",
     "height": 749
    },
    "id": "O4qZl2fgPwL-",
    "outputId": "ad782175-6b87-4c64-b9df-19f224ccb448"
   },
   "outputs": [],
   "source": [
    "# 코드를 입력해 주세요\n",
    "elasticnet = \n",
    "elasticnet.\n",
    "pred = \n",
    "utils.plot_error('ElasticNet(alpha=0.001, l1_ratio=0.8)', y_test, pred)    "
   ]
  },
  {
   "cell_type": "markdown",
   "metadata": {
    "id": "VJW9zPBUb6yO"
   },
   "source": [
    "### Pipeline 학습"
   ]
  },
  {
   "cell_type": "markdown",
   "metadata": {
    "id": "hgeOB3hYb6yP"
   },
   "source": [
    "StandardScaler와 ElasticNet의 **파이프라인 학습** 합니다.\n",
    "\n",
    "- ElasticNet 모델은 규제 계수인 `alpha=0.01`, `l1_ratio=0.8`을 적용합니다."
   ]
  },
  {
   "cell_type": "code",
   "execution_count": null,
   "metadata": {
    "colab": {
     "base_uri": "https://localhost:8080/",
     "height": 794
    },
    "id": "3WdFqaM2D0d4",
    "outputId": "91d9f1ae-4dbc-4c62-d40a-a7629f40d9a7"
   },
   "outputs": [],
   "source": [
    "elasticnet_pipeline = make_pipeline(\n",
    "    # 코드를 입력해 주세요\n",
    "    \n",
    "    \n",
    ")\n",
    "# 코드를 입력해 주세요\n",
    "elasticnet_pipeline.\n",
    "elasticnet_pred = \n",
    "utils.plot_error('Standard ElasticNet', y_test, elasticnet_pred)"
   ]
  },
  {
   "cell_type": "markdown",
   "metadata": {
    "id": "KZP1eDSyb6yQ"
   },
   "source": [
    "### PolynomialFeatures"
   ]
  },
  {
   "cell_type": "markdown",
   "metadata": {
    "id": "PcMn58nPb6yR"
   },
   "source": [
    "PolynomialFeatures와 ElasticNet의 파이프라인 학습을 진행합니다.\n",
    "\n",
    "- PolynomialFeatures는 `degree=2`, `include_bias=False`로 적용합니다.\n",
    "- ElasticNet 모델은 규제 계수인 `alpha=0.1`, `l1_ratio=0.8`을 적용합니다."
   ]
  },
  {
   "cell_type": "code",
   "execution_count": null,
   "metadata": {
    "colab": {
     "base_uri": "https://localhost:8080/",
     "height": 895
    },
    "id": "ri2oXSKuKVA9",
    "outputId": "94bdd54e-0c09-4efc-c0d3-82907f2d9d42"
   },
   "outputs": [],
   "source": [
    "poly_pipeline = make_pipeline(\n",
    "    \n",
    "    \n",
    ")\n",
    "poly_pipeline.\n",
    "poly_pred = \n",
    "utils.plot_error('Poly ElasticNet', y_test, poly_pred)"
   ]
  },
  {
   "cell_type": "markdown",
   "metadata": {
    "id": "5xVeRf0IS6MP"
   },
   "source": [
    "# 앙상블 (Ensemble)"
   ]
  },
  {
   "cell_type": "markdown",
   "metadata": {
    "id": "BkWgJGuZhG-L"
   },
   "source": [
    "[scikit-learn 도큐먼트](https://scikit-learn.org/stable/modules/classes.html?highlight=ensemble#module-sklearn.ensemble)"
   ]
  },
  {
   "cell_type": "markdown",
   "metadata": {
    "id": "vpV5jaDcZCEi"
   },
   "source": [
    "## 보팅 (Voting) - 회귀 (Regression)"
   ]
  },
  {
   "cell_type": "markdown",
   "metadata": {
    "id": "Q9Tuw8KGZRfo"
   },
   "source": [
    "Voting은 단어 뜻 그대로 **투표를 통해 결정하는 방식**입니다. Voting은 Bagging과 투표방식이라는 점에서 유사하지만, 다음과 같은 큰 차이점이 있습니다.\n",
    "\n",
    "- Voting은 다른 알고리즘 model을 조합해서 사용합니다.\n",
    "- Bagging은 같은 알고리즘 내에서 다른 sample 조합을 사용합니다.\n"
   ]
  },
  {
   "cell_type": "code",
   "execution_count": null,
   "metadata": {
    "id": "-NR8xnx8S6gz"
   },
   "outputs": [],
   "source": [
    "from sklearn.ensemble import VotingRegressor, VotingClassifier"
   ]
  },
  {
   "cell_type": "markdown",
   "metadata": {
    "id": "z_N3DLOObIGo"
   },
   "source": [
    "반드시, **Tuple 형태로 모델**을 정의해야 합니다."
   ]
  },
  {
   "cell_type": "code",
   "execution_count": null,
   "metadata": {
    "id": "s05Z0nP_Ze2g"
   },
   "outputs": [],
   "source": [
    "single_models = [\n",
    "    ('linear_reg', linear_reg), \n",
    "    ('ridge', ridge), \n",
    "    ('lasso', lasso), \n",
    "    ('elasticnet_pipeline', elasticnet_pipeline), \n",
    "    ('poly_pipeline', poly_pipeline)\n",
    "]"
   ]
  },
  {
   "cell_type": "code",
   "execution_count": null,
   "metadata": {
    "id": "mVuVfdIvZHgZ"
   },
   "outputs": [],
   "source": [
    "# voting regressor 선언\n",
    "voting_regressor = VotingRegressor(single_models)"
   ]
  },
  {
   "cell_type": "code",
   "execution_count": null,
   "metadata": {
    "colab": {
     "base_uri": "https://localhost:8080/",
     "height": 575
    },
    "id": "f2cSAQafZHWZ",
    "outputId": "92cdae1c-9f32-4599-a2e4-66067cc40b16"
   },
   "outputs": [],
   "source": [
    "# 학습\n",
    "voting_regressor.fit(x_train, y_train)"
   ]
  },
  {
   "cell_type": "code",
   "execution_count": null,
   "metadata": {
    "id": "yd3AA9mFa_0n"
   },
   "outputs": [],
   "source": [
    "# 예측\n",
    "voting_pred = voting_regressor.predict(x_test)"
   ]
  },
  {
   "cell_type": "code",
   "execution_count": null,
   "metadata": {
    "colab": {
     "base_uri": "https://localhost:8080/",
     "height": 884
    },
    "id": "-RkzXSShS6ks",
    "outputId": "517d37ea-963e-4592-87d4-cca24e3adf61"
   },
   "outputs": [],
   "source": [
    "utils.plot_error('Voting Ensemble', y_test, voting_pred)"
   ]
  },
  {
   "cell_type": "markdown",
   "metadata": {
    "id": "JmU82aB0bCvw"
   },
   "source": [
    "## 보팅 (Voting) - 분류 (Classification)"
   ]
  },
  {
   "cell_type": "markdown",
   "metadata": {
    "id": "CfP4UDYN9zqk"
   },
   "source": [
    "[자세한 내용 보기](https://teddylee777.github.io/machine-learning/ensemble%EA%B8%B0%EB%B2%95%EC%97%90-%EB%8C%80%ED%95%9C-%EC%9D%B4%ED%95%B4%EC%99%80-%EC%A2%85%EB%A5%98-1)"
   ]
  },
  {
   "cell_type": "markdown",
   "metadata": {
    "id": "VhunbeIPbCrQ"
   },
   "source": [
    "분류기 모델을 만들때, Voting 앙상블은 1가지의 **중요한 parameter**가 있습니다."
   ]
  },
  {
   "cell_type": "markdown",
   "metadata": {
    "id": "UWrjow00bClw"
   },
   "source": [
    "`voting` = {'hard', 'soft'}"
   ]
  },
  {
   "cell_type": "markdown",
   "metadata": {
    "id": "qB802mMYbpCY"
   },
   "source": [
    "**hard**로 설정한 경우"
   ]
  },
  {
   "cell_type": "markdown",
   "metadata": {
    "id": "BXeb62smggbW"
   },
   "source": [
    "class를 0, 1로 분류 예측을 하는 이진 분류를 예로 들어 보겠습니다."
   ]
  },
  {
   "cell_type": "markdown",
   "metadata": {
    "id": "7XFdvrIObo-Y"
   },
   "source": [
    "Hard Voting 방식에서는 결과 값에 대한 다수 class를 차용합니다.\n",
    "\n",
    "classification을 예로 들어 보자면, 분류를 예측한 값이 1, 0, 0, 1, 1 이었다고 가정한다면 1이 3표, 0이 2표를 받았기 때문에 Hard Voting 방식에서는 1이 최종 값으로 예측을 하게 됩니다."
   ]
  },
  {
   "cell_type": "markdown",
   "metadata": {
    "id": "GayHuZTIbo5I"
   },
   "source": [
    "**soft**"
   ]
  },
  {
   "cell_type": "markdown",
   "metadata": {
    "id": "Cy7MIfW2S6qr"
   },
   "source": [
    "soft vote 방식은 각각의 확률의 평균 값을 계산한다음에 가장 확률이 높은 값으로 확정짓게 됩니다.\n",
    "\n",
    "가령 class 0이 나올 확률이 (0.4, 0.9, 0.9, 0.4, 0.4)이었고, class 1이 나올 확률이 (0.6, 0.1, 0.1, 0.6, 0.6) 이었다면, \n",
    "\n",
    "- class 0이 나올 최종 확률은 (0.4+0.9+0.9+0.4+0.4) / 5 = 0.44, \n",
    "- class 1이 나올 최종 확률은 (0.6+0.1+0.1+0.6+0.6) / 5 = 0.4 \n",
    "\n",
    "가 되기 때문에 앞선 Hard Vote의 결과와는 다른 결과 값이 최종 으로 선출되게 됩니다."
   ]
  },
  {
   "cell_type": "code",
   "execution_count": null,
   "metadata": {
    "id": "iTIf6PEH_YFU"
   },
   "outputs": [],
   "source": [
    "from sklearn.ensemble import VotingClassifier\n",
    "from sklearn.tree import DecisionTreeClassifier\n",
    "from sklearn.neighbors import KNeighborsClassifier"
   ]
  },
  {
   "cell_type": "code",
   "execution_count": null,
   "metadata": {
    "id": "FKdhe8s3_eOc"
   },
   "outputs": [],
   "source": [
    "models = [\n",
    "    ('dt', DecisionTreeClassifier()), \n",
    "    ('knn', KNeighborsClassifier())\n",
    "]"
   ]
  },
  {
   "cell_type": "markdown",
   "metadata": {
    "id": "l9XRV1Xq_6gd"
   },
   "source": [
    "voting 옵션에 대하여 지정합니다."
   ]
  },
  {
   "cell_type": "code",
   "execution_count": null,
   "metadata": {
    "id": "kO8ZIGMW_a9t"
   },
   "outputs": [],
   "source": [
    "vc = VotingClassifier(models, voting='soft')"
   ]
  },
  {
   "cell_type": "markdown",
   "metadata": {
    "id": "neXmpfuGhBSK"
   },
   "source": [
    "## 배깅(Bagging)"
   ]
  },
  {
   "cell_type": "markdown",
   "metadata": {
    "id": "0zYEl6fb9vPk"
   },
   "source": [
    "[자세한 내용 보기](https://teddylee777.github.io/machine-learning/ensemble%EA%B8%B0%EB%B2%95%EC%97%90-%EB%8C%80%ED%95%9C-%EC%9D%B4%ED%95%B4%EC%99%80-%EC%A2%85%EB%A5%98-2)"
   ]
  },
  {
   "cell_type": "markdown",
   "metadata": {
    "id": "hZDwj-E3hBOT"
   },
   "source": [
    "Bagging은 **Bootstrap Aggregating의 줄임말**입니다.\n",
    "\n",
    "- Bootstrap = Sample(샘플) + Aggregating = 합산\n",
    "\n",
    "Bootstrap은 여러 개의 dataset을 중첩을 허용하게 하여 샘플링하여 분할하는 방식"
   ]
  },
  {
   "cell_type": "markdown",
   "metadata": {
    "id": "rpkuyQke7TGV"
   },
   "source": [
    "데이터 셋의 구성이 [1, 2, 3, 4, 5 ]로 되어 있다면,\n",
    "\n",
    "1. group 1 = [1, 2, 3]\n",
    "2. group 2 = [1, 3, 4]\n",
    "3. group 3 = [2, 3, 5]"
   ]
  },
  {
   "cell_type": "code",
   "execution_count": null,
   "metadata": {
    "colab": {
     "base_uri": "https://localhost:8080/",
     "height": 457
    },
    "id": "Q3AD85907S99",
    "outputId": "4edf9773-b9a9-4196-eb87-c81c5c435bb2"
   },
   "outputs": [],
   "source": [
    "Image('https://teddylee777.github.io/images/2019-12-17/image-20191217015537872.png')"
   ]
  },
  {
   "cell_type": "markdown",
   "metadata": {
    "id": "zGl5_Eph7S5e"
   },
   "source": [
    "**Voting VS Bagging**"
   ]
  },
  {
   "cell_type": "markdown",
   "metadata": {
    "id": "M8UmURTm7Szq"
   },
   "source": [
    "* **Voting**은 여러 알고리즘의 조합에 대한 앙상블\n",
    "* **Bagging**은 하나의 단일 알고리즘에 대하여 여러 개의 샘플 조합으로 앙상블"
   ]
  },
  {
   "cell_type": "markdown",
   "metadata": {
    "id": "9rofSS_2hBIJ"
   },
   "source": [
    "**대표적인 Bagging 앙상블**\n",
    "1. RandomForest\n",
    "2. Bagging"
   ]
  },
  {
   "cell_type": "markdown",
   "metadata": {
    "id": "q3Q1Qhb9AlH7"
   },
   "source": [
    "## RandomForest"
   ]
  },
  {
   "cell_type": "markdown",
   "metadata": {
    "id": "SiR_kf5rAm9U"
   },
   "source": [
    "- DecisionTree(트리)기반 Bagging 앙상블\n",
    "- 굉장히 인기있는 앙상블 모델\n",
    "- 사용성이 쉽고, 성능도 우수함"
   ]
  },
  {
   "cell_type": "code",
   "execution_count": null,
   "metadata": {
    "id": "9V08tFfRgW2Q"
   },
   "outputs": [],
   "source": [
    "from sklearn.ensemble import RandomForestRegressor, RandomForestClassifier"
   ]
  },
  {
   "cell_type": "markdown",
   "metadata": {},
   "source": [
    "`random_state=SEED`로 설정합니다."
   ]
  },
  {
   "cell_type": "code",
   "execution_count": null,
   "metadata": {
    "colab": {
     "base_uri": "https://localhost:8080/",
     "height": 143
    },
    "id": "oAXkfx9eAE78",
    "outputId": "14832886-3b2a-49fd-fe4d-94bdcd9bd88a"
   },
   "outputs": [],
   "source": [
    "# 코드를 입력해 주세요\n",
    "rfr = \n",
    "rfr.\n",
    "rfr_pred = \n",
    "utils.plot_error('RandomForest Ensemble', y_test, rfr_pred)"
   ]
  },
  {
   "cell_type": "markdown",
   "metadata": {
    "id": "LpGfq0mLAdNv"
   },
   "source": [
    "**주요 Hyperparameter**"
   ]
  },
  {
   "cell_type": "markdown",
   "metadata": {
    "id": "NpOEkIoCAdFd"
   },
   "source": [
    "- `random_state`: 랜덤 시드 고정 값. 고정해두고 튜닝할 것!\n",
    "- `n_jobs`: CPU 사용 갯수\n",
    "- `max_depth`: 깊어질 수 있는 최대 깊이. 과대적합 방지용\n",
    "- `n_estimators`: 앙상블하는 트리의 갯수\n",
    "- `max_features`: 최대로 사용할 feature의 갯수. 과대적합 방지용\n",
    "- `min_samples_split`: 트리가 분할할 때 최소 샘플의 갯수. default=2. 과대적합 방지용"
   ]
  },
  {
   "cell_type": "markdown",
   "metadata": {
    "id": "VWQR6dv-Dbd0"
   },
   "source": [
    "튜닝을 할 땐 반드시 `random_state` 값을 **고정**시킵니다!"
   ]
  },
  {
   "cell_type": "code",
   "execution_count": null,
   "metadata": {
    "colab": {
     "base_uri": "https://localhost:8080/",
     "height": 975
    },
    "id": "voL-FLzZC_Cu",
    "outputId": "66bda85b-0d08-4bb8-cfd9-a258a2bcb637"
   },
   "outputs": [],
   "source": [
    "rfr = RandomForestRegressor(random_state=SEED, n_estimators=1500, max_depth=9, max_features=0.9)\n",
    "rfr.fit(x_train, y_train)\n",
    "rfr_pred = rfr.predict(x_test)\n",
    "utils.plot_error('RandomForest Ensemble w/ Tuning', y_test, rfr_pred)"
   ]
  },
  {
   "cell_type": "markdown",
   "metadata": {
    "id": "xVppGjbCS6uy"
   },
   "source": [
    "## 부스팅 (Boosting)"
   ]
  },
  {
   "cell_type": "markdown",
   "metadata": {
    "id": "jcR9D5Yt9r50"
   },
   "source": [
    "[자세한 내용 보기]('https://teddylee777.github.io/machine-learning/ensemble%EA%B8%B0%EB%B2%95%EC%97%90-%EB%8C%80%ED%95%9C-%EC%9D%B4%ED%95%B4%EC%99%80-%EC%A2%85%EB%A5%98-3')"
   ]
  },
  {
   "cell_type": "markdown",
   "metadata": {
    "id": "O6Bmmk4db6y1"
   },
   "source": [
    "Boosting 알고리즘 역시 앙상블 학습 (ensemble learning)이며, **약한 학습기를 순차적으로 학습을 하되, 이전 학습에 대하여 잘못 예측된 데이터에 가중치를 부여해 오차를 보완**해 나가는 방식입니다.\n",
    "\n",
    "다른 앙상블 기법과 가장 다른 점중 하나는 바로 순차적인 학습을 하며 weight를 부여해서 오차를 보완해 나간다는 점인데요. 순차적이기 때문에 병렬 처리에 어려움이 있고, 그렇기 때문에 **다른 앙상블 대비 학습 시간이 오래걸린다는 단점**이 있습니다."
   ]
  },
  {
   "cell_type": "markdown",
   "metadata": {
    "id": "0oz62PWG85fH"
   },
   "source": [
    "약한 학습기를 순차적으로 학습을 하되, 이전 학습에 대하여 잘못 예측된 데이터에 **가중치를 부여해 오차를 보완**해 나가는 방식입니다.\n",
    "\n",
    "**장점** \n",
    "- 성능이 매우 우수하다 (Lgbm, XGBoost)\n",
    "\n",
    "**단점**\n",
    "- 부스팅 알고리즘의 특성상 계속 약점(오분류/잔차)을 보완하려고 하기 때문에 **잘못된 레이블링이나 아웃라이어에 필요 이상으로 민감**할 수 있다\n",
    "- 다른 앙상블 대비 **학습 시간이 오래걸린다는 단점**이 존재"
   ]
  },
  {
   "cell_type": "code",
   "execution_count": null,
   "metadata": {
    "colab": {
     "base_uri": "https://localhost:8080/",
     "height": 666
    },
    "id": "DynTo85sE7FM",
    "outputId": "f51ecbd9-bd17-46a2-fc30-9fca7694f47f"
   },
   "outputs": [],
   "source": [
    "Image('https://keras.io/img/graph-kaggle-1.jpeg', width=800)"
   ]
  },
  {
   "cell_type": "markdown",
   "metadata": {
    "id": "sSsGQutH85bx"
   },
   "source": [
    "**대표적인 Boosting 앙상블**\n",
    "1. AdaBoost\n",
    "2. GradientBoost\n",
    "3. LightGBM (LGBM)\n",
    "4. XGBoost"
   ]
  },
  {
   "cell_type": "markdown",
   "metadata": {
    "id": "thFh1dR1EDyq"
   },
   "source": [
    "## GradientBoost"
   ]
  },
  {
   "cell_type": "markdown",
   "metadata": {
    "id": "u7jfQpkEIFBp"
   },
   "source": [
    "- 성능이 우수함\n",
    "- 학습시간이 해도해도 너무 느리다"
   ]
  },
  {
   "cell_type": "markdown",
   "metadata": {
    "id": "FzS1EdpKFCfa"
   },
   "source": [
    "[사이킷런 공식문서](https://scikit-learn.org/stable/modules/generated/sklearn.ensemble.GradientBoostingRegressor.html?highlight=gradient%20boost#sklearn.ensemble.GradientBoostingRegressor)"
   ]
  },
  {
   "cell_type": "code",
   "execution_count": null,
   "metadata": {
    "id": "r7PTKmzI85Xe"
   },
   "outputs": [],
   "source": [
    "from sklearn.ensemble import GradientBoostingRegressor, GradientBoostingClassifier"
   ]
  },
  {
   "cell_type": "markdown",
   "metadata": {},
   "source": [
    "`random_state=SEED`로 설정합니다."
   ]
  },
  {
   "cell_type": "code",
   "execution_count": null,
   "metadata": {
    "colab": {
     "base_uri": "https://localhost:8080/",
     "height": 1000
    },
    "id": "9Jt2hOXd85TL",
    "outputId": "05ab3537-4ef9-4b99-baea-feeeaf2c8b59"
   },
   "outputs": [],
   "source": [
    "# 코드를 입력해 주세요\n",
    "gbr = \n",
    "gbr.\n",
    "gbr_pred = \n",
    "utils.plot_error('GradientBoost Ensemble', y_test, gbr_pred)"
   ]
  },
  {
   "cell_type": "markdown",
   "metadata": {
    "id": "eKLeIxLeEB7z"
   },
   "source": [
    "**주요 Hyperparameter**\n",
    "- `random_state`: 랜덤 시드 고정 값. 고정해두고 튜닝할 것!\n",
    "- `n_jobs`: CPU 사용 갯수\n",
    "- `learning_rate`: 학습율. 너무 큰 학습율은 성능을 떨어뜨리고, 너무 작은 학습율은 학습이 느리다. 적절한 값을 찾아야함. n_estimators와 같이 튜닝. default=0.1\n",
    "- `n_estimators`: 부스팅 스테이지 수. (랜덤포레스트 트리의 갯수 설정과 비슷한 개념). default=100\n",
    "- `subsample`: 샘플 사용 비율 (max_features와 비슷한 개념). 과대적합 방지용\n",
    "- `min_samples_split`: 노드 분할시 최소 샘플의 갯수. default=2. 과대적합 방지용"
   ]
  },
  {
   "cell_type": "code",
   "execution_count": null,
   "metadata": {
    "colab": {
     "base_uri": "https://localhost:8080/",
     "height": 1000
    },
    "id": "pBuXQevyEB0i",
    "outputId": "dd537408-1cde-410c-a4e9-61a150ca1ab3"
   },
   "outputs": [],
   "source": [
    "gbr = GradientBoostingRegressor(random_state=SEED, learning_rate=0.01, n_estimators=1000, subsample=0.8)\n",
    "gbr.fit(x_train, y_train)\n",
    "gbr_pred = gbr.predict(x_test)\n",
    "utils.plot_error('GradientBoosting(lr=0.01, est=1000, subsample=0.8)', y_test, gbr_pred)"
   ]
  },
  {
   "cell_type": "markdown",
   "metadata": {
    "id": "ShE0LWV5EBv7"
   },
   "source": [
    "## XGBoost\n",
    "e**X**treme **G**radient **B**oosting"
   ]
  },
  {
   "cell_type": "markdown",
   "metadata": {
    "id": "ymU1xA39Iw5j"
   },
   "source": [
    "[공식 도큐먼트](https://xgboost.readthedocs.io/en/latest/)"
   ]
  },
  {
   "cell_type": "markdown",
   "metadata": {
    "id": "xw17wJya85Ms"
   },
   "source": [
    "**주요 특징**\n",
    "- scikit-learn 패키지가 아닙니다.\n",
    "- 성능이 우수함\n",
    "- GBM보다는 빠르고 성능도 향상되었습니다.\n",
    "- 여전히 학습시간이 매우 느리다"
   ]
  },
  {
   "cell_type": "code",
   "execution_count": null,
   "metadata": {
    "id": "mmJY3TqKHwYD"
   },
   "outputs": [],
   "source": [
    "from xgboost import XGBRegressor, XGBClassifier"
   ]
  },
  {
   "cell_type": "code",
   "execution_count": null,
   "metadata": {
    "colab": {
     "base_uri": "https://localhost:8080/",
     "height": 1000
    },
    "id": "ao8hrHY4IQi6",
    "outputId": "e5f63134-2c63-4702-e3a5-cd6798d89a6c"
   },
   "outputs": [],
   "source": [
    "# 코드를 입력해 주세요\n",
    "xgb = \n",
    "xgb.\n",
    "xgb_pred = \n",
    "utils.plot_error('XGBoost', y_test, xgb_pred)"
   ]
  },
  {
   "cell_type": "markdown",
   "metadata": {
    "id": "-fAjfIX9Jpcx"
   },
   "source": [
    "**주요 Hyperparameter**\n",
    "- `random_state`: 랜덤 시드 고정 값. 고정해두고 튜닝할 것!\n",
    "- `n_jobs`: CPU 사용 갯수\n",
    "- `learning_rate`: 학습율. 너무 큰 학습율은 성능을 떨어뜨리고, 너무 작은 학습율은 학습이 느리다. 적절한 값을 찾아야함. n_estimators와 같이 튜닝. default=0.1\n",
    "- `n_estimators`: 부스팅 스테이지 수. (랜덤포레스트 트리의 갯수 설정과 비슷한 개념). default=100\n",
    "- `max_depth`: 트리의 깊이. 과대적합 방지용. default=3. \n",
    "- `subsample`: 샘플 사용 비율. 과대적합 방지용. default=1.0\n",
    "- `colsample_bytree`: 최대로 사용할 feature의 비율. 과대적합 방지용. default=1.0"
   ]
  },
  {
   "cell_type": "code",
   "execution_count": null,
   "metadata": {
    "colab": {
     "base_uri": "https://localhost:8080/",
     "height": 1000
    },
    "id": "FzCfIg1nHwcA",
    "outputId": "af68b383-6d08-4b30-9ba1-a6ac163cc459"
   },
   "outputs": [],
   "source": [
    "xgb = XGBRegressor(random_state=SEED, learning_rate=0.01, n_estimators=1000, subsample=0.8, colsample_bytree=0.8, max_depth=7)\n",
    "xgb.fit(x_train, y_train)\n",
    "xgb_pred = xgb.predict(x_test)\n",
    "utils.plot_error('XGBoost w/ Tuning', y_test, xgb_pred)"
   ]
  },
  {
   "cell_type": "markdown",
   "metadata": {
    "id": "HmwWVhJsHwgE"
   },
   "source": [
    "### LightGBM"
   ]
  },
  {
   "cell_type": "markdown",
   "metadata": {
    "id": "X8_XnN6wLeBw"
   },
   "source": [
    "[공식 도큐먼트](https://lightgbm.readthedocs.io/en/latest/)"
   ]
  },
  {
   "cell_type": "markdown",
   "metadata": {
    "id": "Unk2_LocLD_I"
   },
   "source": [
    "**주요 특징**\n",
    "- scikit-learn 패키지가 아닙니다 (Microsoft 사 개발)\n",
    "- 부스팅 계열의 알고리즘 입니다.\n",
    "- 성능이 우수함\n",
    "\n",
    "**특이점**\n",
    "- 기존 부스팅 계열 알고리즘이 가지는 단점인 **느린 학습 속도를 개선**하였습니다."
   ]
  },
  {
   "cell_type": "code",
   "execution_count": null,
   "metadata": {
    "id": "q3G6knUJK7uP"
   },
   "outputs": [],
   "source": [
    "from lightgbm import LGBMRegressor, LGBMClassifier"
   ]
  },
  {
   "cell_type": "code",
   "execution_count": null,
   "metadata": {
    "colab": {
     "base_uri": "https://localhost:8080/",
     "height": 1000
    },
    "id": "r1yjuwwwK7n4",
    "outputId": "171ada3e-7e03-4c44-8289-1b605d602376"
   },
   "outputs": [],
   "source": [
    "# 코드를 입력해 주세요\n",
    "lgbm = \n",
    "lgbm.\n",
    "lgbm_pred = \n",
    "utils.plot_error('LGBM', y_test, lgbm_pred)"
   ]
  },
  {
   "cell_type": "markdown",
   "metadata": {
    "id": "GaKdEHJpLrm4"
   },
   "source": [
    "**주요 Hyperparameter**\n",
    "- `random_state`: 랜덤 시드 고정 값. 고정해두고 튜닝할 것!\n",
    "- `n_jobs`: CPU 사용 갯수\n",
    "- `learning_rate`: 학습율. 너무 큰 학습율은 성능을 떨어뜨리고, 너무 작은 학습율은 학습이 느리다. 적절한 값을 찾아야함. n_estimators와 같이 튜닝. default=0.1\n",
    "- `n_estimators`: 부스팅 스테이지 수. (랜덤포레스트 트리의 갯수 설정과 비슷한 개념). default=100\n",
    "- `max_depth`: 트리의 깊이. 과대적합 방지용. default=3. \n",
    "- `colsample_bytree`: 샘플 사용 비율 (max_features와 비슷한 개념). 과대적합 방지용. default=1.0"
   ]
  },
  {
   "cell_type": "code",
   "execution_count": null,
   "metadata": {
    "colab": {
     "base_uri": "https://localhost:8080/",
     "height": 1000
    },
    "id": "yhTVSKbkLssQ",
    "outputId": "8b337ecb-e4fe-484f-d31c-cb3a11485e67"
   },
   "outputs": [],
   "source": [
    "lgbm = LGBMRegressor(random_state=SEED, learning_rate=0.01, n_estimators=1000, colsample_bytree=0.9, n_jobs=-1)\n",
    "lgbm.fit(x_train, y_train)\n",
    "lgbm_pred = lgbm.predict(x_test)\n",
    "utils.plot_error('LGBM w/ Tuning', y_test, lgbm_pred)"
   ]
  },
  {
   "cell_type": "markdown",
   "metadata": {
    "id": "pkNLFd8TOy8s"
   },
   "source": [
    "## 앙상블 모델을 정리하며"
   ]
  },
  {
   "cell_type": "markdown",
   "metadata": {
    "id": "uxT9uRv5RPJX"
   },
   "source": [
    "1. 앙상블은 대체적으로 단일 모델 대비 성능이 좋습니다.\n",
    "2. 앙상블 모델은 적절한 **Hyperparameter 튜닝**이 중요합니다.\n",
    "3. 앙상블 모델은 대체적으로 학습시간이 더 오래 걸립니다.\n",
    "4. 따라서, 모델 튜닝을 하는 데에 걸리는 시간이 오래 소요됩니다."
   ]
  }
 ],
 "metadata": {
  "colab": {
   "collapsed_sections": [],
   "name": "09-앙상블 (Ensemble) (해설)",
   "provenance": []
  },
  "kernelspec": {
   "display_name": "Python 3",
   "language": "python",
   "name": "python3"
  },
  "language_info": {
   "codemirror_mode": {
    "name": "ipython",
    "version": 3
   },
   "file_extension": ".py",
   "mimetype": "text/x-python",
   "name": "python",
   "nbconvert_exporter": "python",
   "pygments_lexer": "ipython3",
   "version": "3.7.10"
  }
 },
 "nbformat": 4,
 "nbformat_minor": 1
}
