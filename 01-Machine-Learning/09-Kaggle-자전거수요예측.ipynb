{
 "cells": [
  {
   "cell_type": "markdown",
   "id": "artistic-canadian",
   "metadata": {},
   "source": [
    "## 데이터분석과 시각화, 머신러닝 알고리즘으로 시간 당 자전거 대여량 예측\n",
    "\n",
    "자전거 대여 데이터를 활용하여, 특정 시간대에 얼마나 많은 사람들이 자전거를 대여하는지 예측하는 것이 목표입니다.\n",
    "\n",
    "사람들이 자전거를 대여하는데는 많은 요소가 관여되어 있을 겁니다. \n",
    "\n",
    "가령 시간(새벽보다 낮에 많이 빌리겠죠), 날씨(비가 오면 자전거를 대여하지 않을 겁니다), 근무일(근무 시간에는 자전거를 대여하지 않겠죠) 등. 이런 모든 요소를 조합하여 자전거 대여량을 예측해주세요. \n",
    "\n",
    "이번 경진대회에서는 기존까지 배웠던 프로그래밍 언어와 인공지능&머신러닝 능력 외에도, 자전거 렌탈 시장에 대한 약간의 전문지식, 그리고 일반인의 기초 상식을 총동원 할 수 있습니다.\n",
    "\n",
    "## 데이터 설명\n",
    "\n",
    "  * **datetime** - 시간. 연-월-일 시:분:초 로 표현합니다. (가령 2011-01-01 00:00:00은 2011년 1월 1일 0시 0분 0초)\n",
    "  * **season** - 계절. 봄(1), 여름(2), 가을(3), 겨울(4) 순으로 표현합니다.\n",
    "  * **holiday** - 공휴일. 1이면 공휴일이며, 0이면 공휴일이 아닙니다.\n",
    "  * **workingday** - 근무일. 1이면 근무일이며, 0이면 근무일이 아닙니다.\n",
    "  * **weather** - 날씨. 1 ~ 4 사이의 값을 가지며, 구체적으로는 다음과 같습니다.\n",
    "    * 1: 아주 깨끗한 날씨입니다. 또는 아주 약간의 구름이 끼어있습니다.\n",
    "    * 2: 약간의 안개와 구름이 끼어있는 날씨입니다.\n",
    "    * 3: 약간의 눈, 비가 오거나 천둥이 칩니다.\n",
    "    * 4: 아주 많은 비가 오거나 우박이 내립니다.\n",
    "  * **temp** - 온도. 섭씨(Celsius)로 적혀있습니다.\n",
    "  * **atemp** - 체감 온도. 마찬가지로 섭씨(Celsius)로 적혀있습니다.\n",
    "  * **humidity** - 습도.\n",
    "  * **windspeed** - 풍속.\n",
    "  * **casual** - 비회원(non-registered)의 자전거 대여량.\n",
    "  * **registered** - 회원(registered)의 자전거 대여량.\n",
    "  * **count** - 총 자전거 대여랑. 비회원(casual) + 회원(registered)과 동일합니다."
   ]
  },
  {
   "cell_type": "markdown",
   "id": "automatic-appointment",
   "metadata": {},
   "source": [
    "## 모듈 import \n",
    "\n",
    "필요한 모듈을 import 합니다. 필요에 따라 추가 패키지를 load 할 수 있습니다."
   ]
  },
  {
   "cell_type": "code",
   "execution_count": null,
   "id": "92a4d978",
   "metadata": {},
   "outputs": [],
   "source": [
    "# 추가 모듈 설치\n",
    "!pip install --upgrade -q teddynote"
   ]
  },
  {
   "cell_type": "code",
   "execution_count": null,
   "id": "radical-ontario",
   "metadata": {},
   "outputs": [],
   "source": [
    "import pandas as pd\n",
    "import numpy as np\n",
    "import matplotlib.pyplot as plt\n",
    "import seaborn as sns\n",
    "import datetime\n",
    "import os\n",
    "import warnings\n",
    "from teddynote import utils\n",
    "\n",
    "warnings.filterwarnings('ignore')\n",
    "utils.set_plot_error('rmsle')\n",
    "\n",
    "%matplotlib inline\n",
    "\n",
    "# Data 경로 설정\n",
    "DATA_DIR = 'bike-sharing-demand'\n",
    "\n",
    "# train 데이터셋 로드 (train.csv)\n",
    "train = pd.read_csv(os.path.join(DATA_DIR, 'train.csv'))\n",
    "                                 \n",
    "# test 데이터셋 로드 (test.csv)\n",
    "test = pd.read_csv(os.path.join(DATA_DIR, 'test.csv'))"
   ]
  },
  {
   "cell_type": "markdown",
   "id": "bronze-surface",
   "metadata": {},
   "source": [
    "2개의 데이터 셋트를 나누어 제공합니다.\n",
    "\n",
    "1. train: 학습용 데이터 세트. 정답 값이라고 할 수 있는 `label` 값이 같이 제공됩니다.\n",
    "2. test: 예측용 데이터 세트. 정답 값이 빠진 `feature` 들만 제공됩니다. 우리는 이 `feature`를 활용하여 예측을 진행합니다."
   ]
  },
  {
   "cell_type": "code",
   "execution_count": null,
   "id": "invalid-slave",
   "metadata": {},
   "outputs": [],
   "source": [
    "train.head()"
   ]
  },
  {
   "cell_type": "code",
   "execution_count": null,
   "id": "3776c134",
   "metadata": {},
   "outputs": [],
   "source": [
    "test.head()"
   ]
  },
  {
   "cell_type": "markdown",
   "id": "ad024442",
   "metadata": {},
   "source": [
    "## 데이터 설명\n",
    "\n",
    "  * **datetime** - 시간. 연-월-일 시:분:초 로 표현합니다. (가령 2011-01-01 00:00:00은 2011년 1월 1일 0시 0분 0초)\n",
    "  * **season** - 계절. 봄, 여름, 가을, 겨울 순으로 표현합니다.\n",
    "  * **holiday** - 공휴일. 1이면 공휴일이며, 0이면 공휴일이 아닙니다.\n",
    "  * **workingday** - 근무일. 1이면 근무일이며, 0이면 근무일이 아닙니다.\n",
    "  * **weather** - 날씨. 1 ~ 4 사이의 값을 가지며, 구체적으로는 다음과 같습니다.\n",
    "    * 1: 아주 깨끗한 날씨입니다. 또는 아주 약간의 구름이 끼어있습니다.\n",
    "    * 2: 약간의 안개와 구름이 끼어있는 날씨입니다.\n",
    "    * 3: 약간의 눈, 비가 오거나 천둥이 칩니다.\n",
    "    * 4: 아주 많은 비가 오거나 우박이 내립니다.\n",
    "  * **temp** - 온도. 섭씨로 적혀있습니다.\n",
    "  * **atemp** - 체감 온도. 마찬가지로 섭씨로 적혀있습니다.\n",
    "  * **humidity** - 습도.\n",
    "  * **windspeed** - 풍속.\n",
    "  * **casual** - 비회원(non-registered)의 자전거 대여량.\n",
    "  * **registered** - 회원(registered)의 자전거 대여량.\n",
    "  * **count** - 총 자전거 대여랑. 비회원(casual) + 회원(registered)과 동일합니다."
   ]
  },
  {
   "cell_type": "code",
   "execution_count": null,
   "id": "greatest-stupid",
   "metadata": {},
   "outputs": [],
   "source": []
  },
  {
   "cell_type": "code",
   "execution_count": null,
   "id": "subsequent-lindsay",
   "metadata": {},
   "outputs": [],
   "source": []
  },
  {
   "cell_type": "code",
   "execution_count": null,
   "id": "neither-charge",
   "metadata": {},
   "outputs": [],
   "source": []
  },
  {
   "cell_type": "code",
   "execution_count": null,
   "id": "binary-chile",
   "metadata": {},
   "outputs": [],
   "source": []
  },
  {
   "cell_type": "code",
   "execution_count": null,
   "id": "chief-sensitivity",
   "metadata": {},
   "outputs": [],
   "source": []
  },
  {
   "cell_type": "code",
   "execution_count": null,
   "id": "cellular-beginning",
   "metadata": {},
   "outputs": [],
   "source": []
  },
  {
   "cell_type": "code",
   "execution_count": null,
   "id": "surface-hobby",
   "metadata": {},
   "outputs": [],
   "source": []
  },
  {
   "cell_type": "code",
   "execution_count": null,
   "id": "promotional-sweden",
   "metadata": {},
   "outputs": [],
   "source": []
  },
  {
   "cell_type": "code",
   "execution_count": null,
   "id": "filled-twins",
   "metadata": {},
   "outputs": [],
   "source": []
  },
  {
   "cell_type": "code",
   "execution_count": null,
   "id": "ffda13ae",
   "metadata": {},
   "outputs": [],
   "source": []
  },
  {
   "cell_type": "code",
   "execution_count": null,
   "id": "5bee8cb5",
   "metadata": {},
   "outputs": [],
   "source": []
  },
  {
   "cell_type": "code",
   "execution_count": null,
   "id": "blocked-roberts",
   "metadata": {},
   "outputs": [],
   "source": []
  },
  {
   "cell_type": "code",
   "execution_count": null,
   "id": "periodic-formula",
   "metadata": {},
   "outputs": [],
   "source": []
  },
  {
   "cell_type": "code",
   "execution_count": null,
   "id": "initial-truck",
   "metadata": {},
   "outputs": [],
   "source": [
    "prediction = # test.csv를 예측한 결과 대입"
   ]
  },
  {
   "cell_type": "markdown",
   "id": "f2e14978",
   "metadata": {},
   "source": [
    "## 평가지표 (RMSLE)"
   ]
  },
  {
   "cell_type": "code",
   "execution_count": null,
   "id": "6c760af6",
   "metadata": {},
   "outputs": [],
   "source": [
    "# 참고 코드\n",
    "from sklearn.metrics import mean_squared_log_error\n",
    "\n",
    "RMSLE = lambda y_true, y_pred: np.sqrt(mean_squared_log_error(y_true, y_pred))\n",
    "\n",
    "RMSLE(y_test, pred)"
   ]
  },
  {
   "cell_type": "markdown",
   "id": "characteristic-hawaii",
   "metadata": {},
   "source": [
    "## 시각화 샘플 코드"
   ]
  },
  {
   "cell_type": "code",
   "execution_count": null,
   "id": "naval-administrator",
   "metadata": {},
   "outputs": [],
   "source": [
    "# 시각화 샘플 코드\n",
    "utils.plot_error('Your Model', y_test, pred)"
   ]
  },
  {
   "cell_type": "code",
   "execution_count": null,
   "id": "owned-retention",
   "metadata": {},
   "outputs": [],
   "source": [
    "# 시각화 차트 초기화\n",
    "utils.clear_error()"
   ]
  },
  {
   "cell_type": "markdown",
   "id": "f77aec07",
   "metadata": {},
   "source": [
    "## 결과 제출"
   ]
  },
  {
   "cell_type": "code",
   "execution_count": null,
   "id": "sustained-tomato",
   "metadata": {},
   "outputs": [],
   "source": [
    "# 제출 파일 생성 및 결과 제출\n",
    "submission = pd.read_csv(os.path.join(DATA_DIR, 'sampleSubmission.csv'))\n",
    "submission['count'] = prediction\n",
    "display(submission)\n",
    "submission.to_csv('bike-sharing-output.csv', index=False)"
   ]
  }
 ],
 "metadata": {
  "kernelspec": {
   "display_name": "Python 3",
   "language": "python",
   "name": "python3"
  },
  "language_info": {
   "codemirror_mode": {
    "name": "ipython",
    "version": 3
   },
   "file_extension": ".py",
   "mimetype": "text/x-python",
   "name": "python",
   "nbconvert_exporter": "python",
   "pygments_lexer": "ipython3",
   "version": "3.7.10"
  }
 },
 "nbformat": 4,
 "nbformat_minor": 5
}
