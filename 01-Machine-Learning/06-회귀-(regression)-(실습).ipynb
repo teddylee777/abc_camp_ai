{
 "cells": [
  {
   "cell_type": "code",
   "execution_count": null,
   "metadata": {
    "id": "DxUygMozkNXP"
   },
   "outputs": [],
   "source": [
    "# 튜토리얼 진행을 위한 모듈 import\n",
    "import pandas as pd\n",
    "import numpy as np\n",
    "import matplotlib.pyplot as plt\n",
    "import seaborn as sns\n",
    "from IPython.display import Image\n",
    "import warnings\n",
    "\n",
    "np.set_printoptions(suppress=True, precision=3)\n",
    "\n",
    "# 경고 메시지 출력 표기 생략\n",
    "warnings.filterwarnings('ignore')"
   ]
  },
  {
   "cell_type": "markdown",
   "metadata": {
    "id": "4w25biB_5-G4"
   },
   "source": [
    "# 회귀 (regression)"
   ]
  },
  {
   "cell_type": "markdown",
   "metadata": {
    "id": "MNQRgZZKkNXT"
   },
   "source": [
    "회귀 분석(regression analysis)은 관찰된 연속형 변수들에 대해 두 변수 사이의 모형을 구한뒤 적합도를 측정해 내는 분석 방법입니다.\n",
    "\n",
    "하나의 종속변수와 하나의 독립변수 사이의 관계를 분석할 경우를 **단순회귀분석(simple regression analysis)**, 하나의 종속변수와 여러 독립변수 사이의 관계를 규명하고자 할 경우를 **다중회귀분석(multiple regression analysis)**이라고 합니다."
   ]
  },
  {
   "cell_type": "markdown",
   "metadata": {
    "id": "5Y_f-BWX6CCA"
   },
   "source": [
    "**예시**\n",
    "- 주택 가격 예측\n",
    "- 매출액 예측\n",
    "- 주가 예측\n",
    "- 온도 예측"
   ]
  },
  {
   "cell_type": "markdown",
   "metadata": {
    "id": "ExYrS9GzkNXU"
   },
   "source": [
    "대표적인 회귀 모델로는\n",
    "\n",
    "- 최소제곱법(Ordinary Least Squares)을 활용한 **LinearRegression**\n",
    "- 경사하강법(Gradient Descent)을 활용한 **SGDRegressor**\n",
    "- 선형 회귀 모델에 L1, L2 규제를 더한 **Lasso, Ridge, ElasticNet**\n",
    "\n",
    "등이 있습니다."
   ]
  },
  {
   "cell_type": "markdown",
   "metadata": {
    "id": "xlUKcoPiJid2"
   },
   "source": [
    "[도큐먼트](https://scikit-learn.org/stable/supervised_learning.html#supervised-learning)"
   ]
  },
  {
   "cell_type": "markdown",
   "metadata": {
    "id": "IXUBcFNLv-hN"
   },
   "source": [
    "## 회귀 모델을 위한 평가 지표"
   ]
  },
  {
   "cell_type": "code",
   "execution_count": null,
   "metadata": {
    "id": "sAfJTTk4kNXV"
   },
   "outputs": [],
   "source": [
    "def make_linear(w=0.5, b=0.8, size=50, noise=1.0):\n",
    "    np.random.seed(123)\n",
    "    x = np.arange(size)\n",
    "    y = w * x + b\n",
    "    noise = np.random.uniform(-abs(noise), abs(noise), size=y.shape)\n",
    "    yy = y + noise\n",
    "    plt.figure(figsize=(10, 7))\n",
    "    plt.plot(x, y, color='r', label=f'y = {w}*x + {b}')\n",
    "    plt.scatter(x, yy, label='data')\n",
    "    plt.legend(fontsize=20)\n",
    "    plt.show()\n",
    "    print(f'w: {w}, b: {b}')\n",
    "    return x, y, yy"
   ]
  },
  {
   "cell_type": "code",
   "execution_count": null,
   "metadata": {
    "id": "oGteMRsfkNXX",
    "outputId": "b110c4ff-ed07-4052-c37b-fe9be028521b"
   },
   "outputs": [],
   "source": [
    "x, y_true, y_pred = make_linear(size=50, w=1.5, b=0.8, noise=5.5)"
   ]
  },
  {
   "cell_type": "markdown",
   "metadata": {
    "id": "EoG4CEm4v-aJ"
   },
   "source": [
    "### MSE (Mean Squared Error)"
   ]
  },
  {
   "cell_type": "markdown",
   "metadata": {
    "id": "P0TUHffBzCly"
   },
   "source": [
    "- 예측 값과 실제 값의 차이에 대한 **제곱**에 대하여 평균을 낸 값\n",
    "- MSE 오차가 작으면 작을수록 좋지만, 과대적합이 될 수 있음에 주의합니다.\n",
    "- 예측 값과 실제 값보다 크게 예측이 되는지 작게 예측되는지 알 수 없습니다."
   ]
  },
  {
   "cell_type": "markdown",
   "metadata": {},
   "source": [
    "$\\Large MSE = \\frac{1}{n}\\sum_{i=1}^{n}{(y_i - \\hat{y_i})^2}$"
   ]
  },
  {
   "cell_type": "markdown",
   "metadata": {
    "id": "Hd31hgftkNXi"
   },
   "source": [
    "Python 코드로 위의 수식을 그대로 구현합니다."
   ]
  },
  {
   "cell_type": "markdown",
   "metadata": {},
   "source": [
    "`mse` 변수에 결과를 대입합니다."
   ]
  },
  {
   "cell_type": "code",
   "execution_count": null,
   "metadata": {
    "id": "fSXv0MNXkNXi",
    "outputId": "1a044e18-9690-4a8c-b7ed-d6f2f62a9b7e"
   },
   "outputs": [],
   "source": [
    "# 코드를 입력해 주세요\n",
    "mse = "
   ]
  },
  {
   "cell_type": "code",
   "execution_count": null,
   "metadata": {
    "id": "fSXv0MNXkNXi",
    "outputId": "1a044e18-9690-4a8c-b7ed-d6f2f62a9b7e"
   },
   "outputs": [],
   "source": [
    "# 코드검증\n",
    "print('mse = {:.3f}'.format(mse))"
   ]
  },
  {
   "cell_type": "markdown",
   "metadata": {
    "id": "3d15QwUukNXk"
   },
   "source": [
    "`sklearn.metrics` 패키지에 `mean_squared_error`를 활용합니다."
   ]
  },
  {
   "cell_type": "code",
   "execution_count": null,
   "metadata": {
    "id": "P0HoZioLkNXk"
   },
   "outputs": [],
   "source": [
    "from sklearn.metrics import mean_squared_error"
   ]
  },
  {
   "cell_type": "markdown",
   "metadata": {},
   "source": [
    "`mse_` 변수에 결과를 대입합니다."
   ]
  },
  {
   "cell_type": "code",
   "execution_count": null,
   "metadata": {
    "id": "Lv47jMb8kNXm",
    "outputId": "413d52af-55c0-490e-c761-4ae009689277"
   },
   "outputs": [],
   "source": [
    "# 코드를 입력해 주세요\n",
    "mse_ = "
   ]
  },
  {
   "cell_type": "code",
   "execution_count": null,
   "metadata": {
    "id": "Lv47jMb8kNXm",
    "outputId": "413d52af-55c0-490e-c761-4ae009689277"
   },
   "outputs": [],
   "source": [
    "# 코드검증\n",
    "print('mse = {:.3f}'.format(mse_))"
   ]
  },
  {
   "cell_type": "markdown",
   "metadata": {
    "id": "yvGjUcuxwFFi"
   },
   "source": [
    "### MAE (Mean Absolute Error)"
   ]
  },
  {
   "cell_type": "markdown",
   "metadata": {
    "id": "6GLVRFIIkNXo"
   },
   "source": [
    "- 예측값과 실제값의 차이에 대한 **절대값**에 대하여 평균을 낸 값\n",
    "- 실제 값과 예측 값 차이를 절대 값으로 변환해 평균을 계산합니다. 작을수록 좋지만, 과대적합이 될 수 있음에 주의합니다.\n",
    "- **스케일에 의존적**입니다.\n",
    "\n",
    "예를 들어, 아파트 집값은 10억, 20억으로 구성되어 있고, 과일 가격은 5000원, 10000원으로 구성되어 있을때,\n",
    "\n",
    "예측하는 각각 모델의 MSE 가 똑같이 100 이 나왔다고 가정한다며,동일한 오차율이 아님에도 불구하고 동일하게 평가되어 지는 현상이 발생합니다.\n",
    "이는 MSE 오차에서도 마찬가지 입니다."
   ]
  },
  {
   "cell_type": "markdown",
   "metadata": {},
   "source": [
    "$\\Large MAE = \\frac{1}{n}\\sum_{i=1}^{n}{|(y_i - \\hat{y_i})|}$"
   ]
  },
  {
   "cell_type": "markdown",
   "metadata": {
    "id": "DLrUCYeGkNXq"
   },
   "source": [
    "Python 코드로 위의 수식을 그대로 구현합니다.\n",
    "\n",
    "`mae` 변수에 결과를 대입합니다."
   ]
  },
  {
   "cell_type": "code",
   "execution_count": null,
   "metadata": {},
   "outputs": [],
   "source": [
    "# 코드를 입력해 주세요\n",
    "mae = "
   ]
  },
  {
   "cell_type": "code",
   "execution_count": null,
   "metadata": {},
   "outputs": [],
   "source": [
    "# 코드검증\n",
    "print('mae = {:.3f}'.format(mae))"
   ]
  },
  {
   "cell_type": "markdown",
   "metadata": {
    "id": "5WL-hXLSkNXr"
   },
   "source": [
    "`sklearn.metrics` 패키지에 `mean_absolute_error`를 활용합니다."
   ]
  },
  {
   "cell_type": "code",
   "execution_count": null,
   "metadata": {
    "id": "TLSkoRzVkNXr"
   },
   "outputs": [],
   "source": [
    "from sklearn.metrics import mean_absolute_error"
   ]
  },
  {
   "cell_type": "markdown",
   "metadata": {},
   "source": [
    "`mae_` 변수에 결과를 대입합니다."
   ]
  },
  {
   "cell_type": "code",
   "execution_count": null,
   "metadata": {
    "id": "bD7F-vOhkNXt",
    "outputId": "3cd6e593-220f-41b6-f5b5-519a33e2480c"
   },
   "outputs": [],
   "source": [
    "# 코드를 입력해 주세요\n",
    "mae_ = "
   ]
  },
  {
   "cell_type": "code",
   "execution_count": null,
   "metadata": {
    "id": "bD7F-vOhkNXt",
    "outputId": "3cd6e593-220f-41b6-f5b5-519a33e2480c"
   },
   "outputs": [],
   "source": [
    "# 코드검증\n",
    "print('mae = {:.3f}'.format(mae_))"
   ]
  },
  {
   "cell_type": "markdown",
   "metadata": {
    "id": "AtV5LD9wkNXz"
   },
   "source": [
    "## 회귀 모델 (Regression Models)"
   ]
  },
  {
   "cell_type": "markdown",
   "metadata": {
    "id": "Yt9pqvyOGW0N"
   },
   "source": [
    "### 모델별 성능 확인을 위한 함수"
   ]
  },
  {
   "cell_type": "code",
   "execution_count": null,
   "metadata": {},
   "outputs": [],
   "source": [
    "# 모듈 설치\n",
    "!pip install --upgrade teddynote -q"
   ]
  },
  {
   "cell_type": "code",
   "execution_count": null,
   "metadata": {},
   "outputs": [],
   "source": [
    "from teddynote import utils\n",
    "\n",
    "# 그래프 사이즈 설정\n",
    "utils.set_plot_options(figsize=(12, 10))\n",
    "\n",
    "# MSE 에러 설정\n",
    "utils.set_plot_error('mse')"
   ]
  },
  {
   "cell_type": "markdown",
   "metadata": {
    "id": "OA_smO1FkNX2"
   },
   "source": [
    "### 보스턴 집 값 데이터"
   ]
  },
  {
   "cell_type": "markdown",
   "metadata": {
    "id": "sIqBLdbnu-7_"
   },
   "source": [
    "**데이터 로드 (load_boston)**"
   ]
  },
  {
   "cell_type": "code",
   "execution_count": null,
   "metadata": {
    "id": "DHjz2_orwMHe"
   },
   "outputs": [],
   "source": [
    "from sklearn.datasets import load_boston\n",
    "\n",
    "# 코드를 입력해 주세요\n",
    "data = load_boston()\n",
    "\n",
    "df = pd.DataFrame(data['data'], columns=data['feature_names'])\n",
    "df['target'] = data['target']\n",
    "df.head()"
   ]
  },
  {
   "cell_type": "markdown",
   "metadata": {
    "id": "2OJKxGHGQyra"
   },
   "source": [
    "**컬럼 소개**\n",
    "\n",
    "속성 수 : 13\n",
    "\n",
    "* **CRIM**: 자치시 별 범죄율\n",
    "* **ZN**: 25,000 평방 피트를 초과하는 주거용 토지의 비율\n",
    "* **INDUS**: 비소매(non-retail) 비즈니스 토지 비율\n",
    "* **CHAS**: 찰스 강과 인접한 경우에 대한 더비 변수 (1= 인접, 0= 인접하지 않음)\n",
    "* **NOX**: 산화 질소 농도 (10ppm)\n",
    "* **RM**:주택당 평균 객실 수\n",
    "* **AGE**: 1940 년 이전에 건축된 자가소유 점유 비율\n",
    "* **DIS**: 5 개의 보스턴 고용 센터까지의 가중 거리     \n",
    "* **RAD**: 고속도로 접근성 지수\n",
    "* **TAX**: 10,000 달러 당 전체 가치 재산 세율\n",
    "* **PTRATIO**  도시별 학생-교사 비율\n",
    "* **B**: 인구당 흑인의 비율. 1000(Bk - 0.63)^2, (Bk는 흑인의 비율을 뜻함)\n",
    "* **LSTAT**: 하위 계층의 비율\n",
    "* **target**: 자가 주택의 중앙값 (1,000 달러 단위)"
   ]
  },
  {
   "cell_type": "markdown",
   "metadata": {
    "id": "2sMNMyyjEGD2"
   },
   "source": [
    "**학습(train) / 테스트(test)** 용 데이터를 분할 합니다."
   ]
  },
  {
   "cell_type": "code",
   "execution_count": null,
   "metadata": {
    "id": "Jt8fMUFYELEQ"
   },
   "outputs": [],
   "source": [
    "from sklearn.model_selection import train_test_split\n",
    "\n",
    "# 시드 설정\n",
    "SEED=30"
   ]
  },
  {
   "cell_type": "code",
   "execution_count": null,
   "metadata": {
    "id": "CiT58Hq3EK-l"
   },
   "outputs": [],
   "source": [
    "# 코드를 입력해 주세요\n",
    "x_train, x_test, y_train, y_test = "
   ]
  },
  {
   "cell_type": "markdown",
   "metadata": {},
   "source": [
    "`x_train`, `x_test`의 shape를 출력합니다."
   ]
  },
  {
   "cell_type": "code",
   "execution_count": null,
   "metadata": {
    "colab": {
     "base_uri": "https://localhost:8080/",
     "height": 35
    },
    "id": "vCfOM_LDviy6",
    "outputId": "7c629d09-b6ce-4e01-bc47-e8ce0c7d8ff6"
   },
   "outputs": [],
   "source": [
    "# 코드를 입력해 주세요\n",
    "x_train.shape, x_test.shape"
   ]
  },
  {
   "cell_type": "code",
   "execution_count": null,
   "metadata": {
    "colab": {
     "base_uri": "https://localhost:8080/",
     "height": 198
    },
    "id": "FKXrkYuSvqWk",
    "outputId": "6a74b5c7-1110-438e-e58e-9ab9e8f9bdb5"
   },
   "outputs": [],
   "source": [
    "# 검증코드\n",
    "x_train.head()"
   ]
  },
  {
   "cell_type": "markdown",
   "metadata": {
    "id": "qJmSsQ2yv0oV"
   },
   "source": [
    "## LinearRegression"
   ]
  },
  {
   "cell_type": "markdown",
   "metadata": {
    "id": "7DWapNujJn6P"
   },
   "source": [
    "[도큐먼트](https://scikit-learn.org/stable/modules/generated/sklearn.linear_model.LinearRegression.html)"
   ]
  },
  {
   "cell_type": "code",
   "execution_count": null,
   "metadata": {
    "id": "y2cYsPENv_q0"
   },
   "outputs": [],
   "source": [
    "from sklearn.linear_model import LinearRegression"
   ]
  },
  {
   "cell_type": "code",
   "execution_count": null,
   "metadata": {
    "id": "1nBUN6VWwFB7"
   },
   "outputs": [],
   "source": [
    "# 코드를 입력해 주세요\n",
    "model = "
   ]
  },
  {
   "cell_type": "code",
   "execution_count": null,
   "metadata": {
    "colab": {
     "base_uri": "https://localhost:8080/",
     "height": 35
    },
    "id": "B0ttPK9wEfOI",
    "outputId": "d83e3823-8cfd-4e73-8fa1-220e7e40ae57"
   },
   "outputs": [],
   "source": [
    "# 코드를 입력해 주세요\n",
    "model."
   ]
  },
  {
   "cell_type": "markdown",
   "metadata": {},
   "source": [
    "`pred` 변수에 예측 결과를 대입합니다."
   ]
  },
  {
   "cell_type": "code",
   "execution_count": null,
   "metadata": {
    "id": "v6LUCRSQwGwl"
   },
   "outputs": [],
   "source": [
    "# 코드를 입력해 주세요\n",
    "pred = "
   ]
  },
  {
   "cell_type": "code",
   "execution_count": null,
   "metadata": {
    "scrolled": false
   },
   "outputs": [],
   "source": [
    "utils.plot_error('LinearRegression', y_test, pred)"
   ]
  },
  {
   "cell_type": "markdown",
   "metadata": {
    "id": "2f9ZKMb0yDF7"
   },
   "source": [
    "## 규제 (Regularization)"
   ]
  },
  {
   "cell_type": "markdown",
   "metadata": {
    "id": "7Jk-33W9yKU7"
   },
   "source": [
    "학습이 과대적합 되는 것을 방지하고자 일종의 **penalty**를 부여하는 것"
   ]
  },
  {
   "cell_type": "markdown",
   "metadata": {
    "id": "dyYZmpMiygqu"
   },
   "source": [
    "**L2 규제 (L2 Regularization)**\n",
    "\n",
    "* 각 가중치 제곱의 합에 규제 강도(Regularization Strength) α를 곱한다. \n",
    "* α를 크게 하면 가중치가 더 많이 감소되고(규제를 중요시함), α를 작게 하면 가중치가 증가한다(규제를 중요시하지 않음).\n",
    "\n",
    "**L1 규제 (L1 Regularization)**\n",
    "\n",
    "* 가중치의 제곱의 합이 아닌 **가중치의 합**을 더한 값에 규제 강도(Regularization Strength) α를 곱하여 오차에 더한다. \n",
    "* 어떤 가중치(w)는 실제로 0이 된다. 즉, 모델에서 완전히 제외되는 특성이 생기는 것이다. \n",
    "\n",
    "\n",
    "**L2 규제가 L1 규제에 비해 더 안정적이라 일반적으로는 L2규제가 더 많이 사용된다**"
   ]
  },
  {
   "cell_type": "markdown",
   "metadata": {
    "id": "Jzxz9aa6kNYO"
   },
   "source": [
    "### Ridge (L2 Regularization)"
   ]
  },
  {
   "cell_type": "markdown",
   "metadata": {
    "id": "dFXahp0tkNYO"
   },
   "source": [
    "- L2 규제 계수를 적용합니다. \n",
    "- 선형회귀에 가중치 (weight)들의 제곱합에 대한 최소화를 추가합니다.\n",
    "\n",
    "**주요 hyperparameter**\n",
    "- `alpha`: 규제 계수\n",
    "\n",
    "**수식**\n",
    "\n",
    "`α`는 규제 계수(강도)를 의미합니다.\n",
    "\n",
    "$\\Large Error=MSE+α\\sum_{i=1}^{n}{w_i^2}$ "
   ]
  },
  {
   "cell_type": "code",
   "execution_count": null,
   "metadata": {
    "id": "c0kYJuLDFWra"
   },
   "outputs": [],
   "source": [
    "from sklearn.linear_model import Ridge"
   ]
  },
  {
   "cell_type": "markdown",
   "metadata": {
    "id": "Ebc1YuwQkNYQ"
   },
   "source": [
    "**규제 계수(alpha)**를 정의합니다."
   ]
  },
  {
   "cell_type": "code",
   "execution_count": null,
   "metadata": {
    "id": "nP23iV4k2LvN"
   },
   "outputs": [],
   "source": [
    "# 값이 커질 수록 큰 규제입니다.\n",
    "alphas = [100, 10, 1, 0.1, 0.01, 0.001, 0.0001]"
   ]
  },
  {
   "cell_type": "code",
   "execution_count": null,
   "metadata": {
    "colab": {
     "base_uri": "https://localhost:8080/",
     "height": 1000
    },
    "id": "gyNqasVUPpoV",
    "outputId": "381dd1b0-46cf-43d5-dc7d-168e0dfac5b3"
   },
   "outputs": [],
   "source": [
    "for alpha in alphas:\n",
    "    # 코드를 입력해 주세요\n",
    "    ridge = \n",
    "    ridge.\n",
    "    pred = \n",
    "    utils.add_error('Ridge(alpha={})'.format(alpha), y_test, pred)\n",
    "utils.plot_all()"
   ]
  },
  {
   "cell_type": "markdown",
   "metadata": {
    "id": "WU0i4_hgkNYT"
   },
   "source": [
    "coef_는 **feature의 가중치**를 보여줍니다.\n",
    "\n",
    "가중치(weight)를 토대로 회귀 예측시 어떤 feature가 주요하게 영향을 미쳤는지 보여 줍니다."
   ]
  },
  {
   "cell_type": "code",
   "execution_count": null,
   "metadata": {
    "colab": {
     "base_uri": "https://localhost:8080/",
     "height": 69
    },
    "id": "3L-aBBrXVbw8",
    "outputId": "bbe599cd-755b-4818-a0df-f164844e7df3"
   },
   "outputs": [],
   "source": [
    "x_train.columns"
   ]
  },
  {
   "cell_type": "code",
   "execution_count": null,
   "metadata": {
    "colab": {
     "base_uri": "https://localhost:8080/",
     "height": 86
    },
    "id": "QrwNwaZNVXzA",
    "outputId": "fda12bed-1fed-4bc9-ef31-dc0b96edcaa1"
   },
   "outputs": [],
   "source": [
    "ridge.coef_"
   ]
  },
  {
   "cell_type": "markdown",
   "metadata": {
    "id": "Ek9-q42OkNYX"
   },
   "source": [
    "**DataFrame**으로 feature별 가중치를 시각화 합니다."
   ]
  },
  {
   "cell_type": "code",
   "execution_count": null,
   "metadata": {
    "id": "_oCb4WP2BFHH"
   },
   "outputs": [],
   "source": [
    "def plot_coef(columns, coef):\n",
    "    coef_df = pd.DataFrame(list(zip(columns, coef)))\n",
    "    coef_df.columns=['feature', 'coef']\n",
    "    coef_df = coef_df.sort_values('coef', ascending=False).reset_index(drop=True)\n",
    "    \n",
    "    fig, ax = plt.subplots(figsize=(9, 7))\n",
    "    ax.barh(np.arange(len(coef_df)), coef_df['coef'])\n",
    "    idx = np.arange(len(coef_df))\n",
    "    ax.set_yticks(idx)\n",
    "    ax.set_yticklabels(coef_df['feature'])\n",
    "    fig.tight_layout()\n",
    "    plt.show()"
   ]
  },
  {
   "cell_type": "code",
   "execution_count": null,
   "metadata": {
    "colab": {
     "base_uri": "https://localhost:8080/",
     "height": 513
    },
    "id": "AUu91h5XVkOZ",
    "outputId": "83431861-008b-45e8-f8d8-da67e6d355b4"
   },
   "outputs": [],
   "source": [
    "plot_coef(x_train.columns, ridge.coef_)"
   ]
  },
  {
   "cell_type": "markdown",
   "metadata": {
    "id": "Afbm9a5OBxam"
   },
   "source": [
    "이번에는, **alpha 값에 따른 coef 의 차이**를 확인해 봅시다"
   ]
  },
  {
   "cell_type": "code",
   "execution_count": null,
   "metadata": {
    "id": "h66krYLHBYPC"
   },
   "outputs": [],
   "source": [
    "ridge_100 = Ridge(alpha=100)\n",
    "ridge_100.fit(x_train, y_train)\n",
    "ridge_pred_100 = ridge_100.predict(x_test)\n",
    "\n",
    "ridge_01 = Ridge(alpha=0.1)\n",
    "ridge_01.fit(x_train, y_train)\n",
    "ridge_pred_01 = ridge_01.predict(x_test)"
   ]
  },
  {
   "cell_type": "code",
   "execution_count": null,
   "metadata": {
    "colab": {
     "base_uri": "https://localhost:8080/",
     "height": 513
    },
    "id": "BUGdFft2BF1v",
    "outputId": "455d494e-f2d0-454b-f531-c1871cbf8105"
   },
   "outputs": [],
   "source": [
    "plot_coef(x_train.columns, ridge_100.coef_)"
   ]
  },
  {
   "cell_type": "code",
   "execution_count": null,
   "metadata": {
    "colab": {
     "base_uri": "https://localhost:8080/",
     "height": 513
    },
    "id": "SlMEr3WcBo2s",
    "outputId": "69c29313-16ac-41fb-b662-3f95090f90db"
   },
   "outputs": [],
   "source": [
    "plot_coef(x_train.columns, ridge_01.coef_)"
   ]
  },
  {
   "cell_type": "markdown",
   "metadata": {
    "id": "O97OMy0xkNYk"
   },
   "source": [
    "### Lasso (L1 Regularization)"
   ]
  },
  {
   "cell_type": "markdown",
   "metadata": {
    "id": "JAkWKkUWkNYk"
   },
   "source": [
    "Lasso(Least Absolute Shrinkage and Selection Operator)\n",
    "\n",
    "- 선형 회귀에 L1 규제 계수를 적용합니다.\n",
    "- 가중치(weight)의 절대 값의 합을 최소화 하는 계수를 추가 합니다.\n",
    "- 불필요한 회귀 계수를 급격히 감소, 0으로 만들어 제거합니다.\n",
    "- 특성(Feature) 선택에 유리합니다.\n",
    "\n",
    "**주요 hyperparameter**\n",
    "- `alpha`: L1 규제 계수\n",
    "\n",
    "**수식**  \n",
    "\n",
    "`α`는 규제 계수(강도)를 의미합니다.\n",
    "\n",
    "$\\Large Error=MSE+α\\sum_{i=1}^{n}{|w_i|}$"
   ]
  },
  {
   "cell_type": "code",
   "execution_count": null,
   "metadata": {
    "id": "O4qZl2fgPwL-"
   },
   "outputs": [],
   "source": [
    "from sklearn.linear_model import Lasso"
   ]
  },
  {
   "cell_type": "code",
   "execution_count": null,
   "metadata": {
    "id": "h91GFyKjQC26"
   },
   "outputs": [],
   "source": [
    "# 값이 커질 수록 큰 규제입니다.\n",
    "alphas = [100, 10, 1, 0.1, 0.01, 0.001, 0.0001]"
   ]
  },
  {
   "cell_type": "code",
   "execution_count": null,
   "metadata": {
    "colab": {
     "base_uri": "https://localhost:8080/",
     "height": 1000
    },
    "id": "a6YRIuAM6Njw",
    "outputId": "2e35259c-6820-43b0-8cd1-799e7bfadf10"
   },
   "outputs": [],
   "source": [
    "for alpha in alphas:\n",
    "    # 코드를 입력해 주세요\n",
    "    lasso = \n",
    "    lasso.\n",
    "    pred = \n",
    "    utils.add_error('Lasso(alpha={})'.format(alpha), y_test, pred)\n",
    "utils.plot_all()"
   ]
  },
  {
   "cell_type": "code",
   "execution_count": null,
   "metadata": {
    "id": "jA-PG4oa8tPe"
   },
   "outputs": [],
   "source": [
    "lasso_100 = Lasso(alpha=100)\n",
    "lasso_100.fit(x_train, y_train)\n",
    "lasso_pred_100 = lasso_100.predict(x_test)\n",
    "\n",
    "lasso_001 = Lasso(alpha=0.01)\n",
    "lasso_001.fit(x_train, y_train)\n",
    "lasso_pred_001 = lasso_001.predict(x_test)"
   ]
  },
  {
   "cell_type": "code",
   "execution_count": null,
   "metadata": {
    "id": "iMxH7RJzkNYr",
    "outputId": "c015dca1-b939-4ed1-e7c9-e7a67edd570b"
   },
   "outputs": [],
   "source": [
    "plot_coef(x_train.columns, lasso_001.coef_)"
   ]
  },
  {
   "cell_type": "code",
   "execution_count": null,
   "metadata": {
    "id": "h-oMCpjskNYt",
    "outputId": "ce975c8c-225f-4186-f613-e7e0b603c106"
   },
   "outputs": [],
   "source": [
    "lasso_001.coef_"
   ]
  },
  {
   "cell_type": "markdown",
   "metadata": {
    "id": "eVIrTVDAkNYv"
   },
   "source": [
    "Lasso 모델에 너무 큰 alpha 계수를 적용하면 **대부분의 feature들의 가중치가 0으로 수렴**합니다."
   ]
  },
  {
   "cell_type": "code",
   "execution_count": null,
   "metadata": {
    "colab": {
     "base_uri": "https://localhost:8080/",
     "height": 513
    },
    "id": "adwyzjHUCDca",
    "outputId": "7a267133-162c-49ac-ec73-ab77b34c032b"
   },
   "outputs": [],
   "source": [
    "plot_coef(x_train.columns, lasso_100.coef_)"
   ]
  },
  {
   "cell_type": "code",
   "execution_count": null,
   "metadata": {
    "colab": {
     "base_uri": "https://localhost:8080/",
     "height": 69
    },
    "id": "nnbJmbXMCP2n",
    "outputId": "54b42224-4676-42bb-b338-818314f8617e"
   },
   "outputs": [],
   "source": [
    "lasso_100.coef_"
   ]
  },
  {
   "cell_type": "markdown",
   "metadata": {
    "id": "Wn8VQi7aXhm0"
   },
   "source": [
    "### ElasticNet"
   ]
  },
  {
   "cell_type": "markdown",
   "metadata": {
    "id": "2rkmgm5EkNYy"
   },
   "source": [
    "Elastic Net 회귀모형은 **가중치의 절대값의 합(L1)과 제곱합(L2)을 동시에** 제약 조건으로 가지는 모형입니다."
   ]
  },
  {
   "cell_type": "code",
   "execution_count": null,
   "metadata": {
    "id": "Oq-oKelfkNYy",
    "outputId": "6bbd1b90-3435-428b-c741-8a74723e775e"
   },
   "outputs": [],
   "source": [
    "Image(url='https://miro.medium.com/max/1312/1*j_DDK7LbVrejTq0tfmavAA.png', width=500)"
   ]
  },
  {
   "cell_type": "markdown",
   "metadata": {
    "id": "6nSlkggjP3B3"
   },
   "source": [
    "**주요 hyperparameter**\n",
    "\n",
    "`alpha`: 규제 계수\n",
    "\n",
    "`l1_ratio (default=0.5)`\n",
    "\n",
    "- l1_ratio = 0 (L2 규제만 사용). \n",
    "- l1_ratio = 1 (L1 규제만 사용). \n",
    "- 0 < l1_ratio < 1 (L1 and L2 규제의 혼합사용)"
   ]
  },
  {
   "cell_type": "code",
   "execution_count": null,
   "metadata": {
    "id": "Aj7V6TUX9Njl"
   },
   "outputs": [],
   "source": [
    "from sklearn.linear_model import ElasticNet"
   ]
  },
  {
   "cell_type": "code",
   "execution_count": null,
   "metadata": {
    "id": "VuxqAPAL9QOK"
   },
   "outputs": [],
   "source": [
    "alpha=0.01\n",
    "ratios = [0.2, 0.5, 0.8]"
   ]
  },
  {
   "cell_type": "code",
   "execution_count": null,
   "metadata": {
    "colab": {
     "base_uri": "https://localhost:8080/",
     "height": 1000
    },
    "id": "RCALSJR28aA8",
    "outputId": "62748381-3993-4421-86c5-d6b952c94666"
   },
   "outputs": [],
   "source": [
    "for ratio in ratios:\n",
    "    # 코드를 입력해 주세요\n",
    "    elasticnet = \n",
    "    elasticnet.\n",
    "    pred = \n",
    "    utils.add_error('ElasticNet(l1_ratio={})'.format(ratio), y_test, pred)\n",
    "utils.plot_all()"
   ]
  },
  {
   "cell_type": "code",
   "execution_count": null,
   "metadata": {
    "id": "RSg2_5bnA8hP"
   },
   "outputs": [],
   "source": [
    "elsticnet_20 = ElasticNet(alpha=0.01, l1_ratio=0.2)\n",
    "elsticnet_20.fit(x_train, y_train)\n",
    "elasticnet_pred_20 = elsticnet_20.predict(x_test)\n",
    "\n",
    "elsticnet_80 = ElasticNet(alpha=0.01, l1_ratio=0.8)\n",
    "elsticnet_80.fit(x_train, y_train)\n",
    "elasticnet_pred_80 = elsticnet_80.predict(x_test)"
   ]
  },
  {
   "cell_type": "code",
   "execution_count": null,
   "metadata": {
    "colab": {
     "base_uri": "https://localhost:8080/",
     "height": 513
    },
    "id": "ALiDJWFo-OgN",
    "outputId": "9713bdc9-6985-4192-ffe3-db438099aa10"
   },
   "outputs": [],
   "source": [
    "plot_coef(x_train.columns, elsticnet_20.coef_)"
   ]
  },
  {
   "cell_type": "code",
   "execution_count": null,
   "metadata": {
    "colab": {
     "base_uri": "https://localhost:8080/",
     "height": 513
    },
    "id": "I8v-1r6cCpMM",
    "outputId": "c0be9519-60fb-49a6-a277-4ca30dfe14c9"
   },
   "outputs": [],
   "source": [
    "plot_coef(x_train.columns, elsticnet_80.coef_)"
   ]
  },
  {
   "cell_type": "markdown",
   "metadata": {
    "id": "mNgheyW7Y6q7"
   },
   "source": [
    "## Scaler 적용"
   ]
  },
  {
   "cell_type": "code",
   "execution_count": null,
   "metadata": {
    "id": "-NWENp4dD5bF"
   },
   "outputs": [],
   "source": [
    "from sklearn.preprocessing import MinMaxScaler, StandardScaler"
   ]
  },
  {
   "cell_type": "markdown",
   "metadata": {
    "id": "DZfeQKc2G5DY"
   },
   "source": [
    "### MinMaxScaler (정규화)"
   ]
  },
  {
   "cell_type": "markdown",
   "metadata": {
    "id": "2DSqOsqYG8NV"
   },
   "source": [
    "정규화 (Normalization)도 표준화와 마찬가지로 데이터의 스케일을 조정합니다.\n",
    "\n",
    "정규화가 표준화와 다른 가장 큰 특징은 **모든 데이터가 0 ~ 1 사이의 값**을 가집니다.\n",
    "\n",
    "즉, 최대값은 1, 최소값은 0으로 데이터의 범위를 조정합니다."
   ]
  },
  {
   "cell_type": "markdown",
   "metadata": {
    "id": "QoywCZrbkNZB"
   },
   "source": [
    "**min값과 max값을 0~1사이로 정규화**"
   ]
  },
  {
   "cell_type": "code",
   "execution_count": null,
   "metadata": {
    "id": "8v_xU3VjkNZB"
   },
   "outputs": [],
   "source": [
    "# 코드를 입력해 주세요 (x_train만 변환)\n",
    "minmax_scaler = \n",
    "minmax_scaled = "
   ]
  },
  {
   "cell_type": "code",
   "execution_count": null,
   "metadata": {
    "colab": {
     "base_uri": "https://localhost:8080/",
     "height": 294
    },
    "id": "L5RODwu2kNZC",
    "outputId": "d80d6e4a-002c-430a-d764-ec0bb30a2703"
   },
   "outputs": [],
   "source": [
    "# 코드검증\n",
    "round(pd.DataFrame(minmax_scaled).describe(), 2)"
   ]
  },
  {
   "cell_type": "markdown",
   "metadata": {
    "id": "Df0nNOZ1Gm84"
   },
   "source": [
    "### StandardScaler (표준화)"
   ]
  },
  {
   "cell_type": "markdown",
   "metadata": {
    "id": "6B7e1UOlGpdi"
   },
   "source": [
    "표준화는 데이터의 **평균을 0 분산 및 표준편차를 1**로 만들어 줍니다."
   ]
  },
  {
   "cell_type": "markdown",
   "metadata": {
    "id": "9IO42gyMkNZE"
   },
   "source": [
    "**표준화를 하는 이유**\n",
    "\n",
    "- 서로 **다른 통계 데이터들을 비교하기 용이**하기 때문입니다.\n",
    "- 표준화를 하면 평균은 0, 분산과 표준편차는 1로 만들어 데이터의 **분포를 단순화 시키고, 비교를 용이**하게 합니다."
   ]
  },
  {
   "cell_type": "markdown",
   "metadata": {},
   "source": [
    "$\\Large z = \\frac{(X - \\mu)}{\\sigma}$"
   ]
  },
  {
   "cell_type": "code",
   "execution_count": null,
   "metadata": {
    "id": "wQESeMLeGmNu"
   },
   "outputs": [],
   "source": [
    "# 코드를 입력해 주세요 (x_train만 변환)\n",
    "std_scaler = \n",
    "std_scaled = "
   ]
  },
  {
   "cell_type": "code",
   "execution_count": null,
   "metadata": {
    "colab": {
     "base_uri": "https://localhost:8080/",
     "height": 294
    },
    "id": "8ANVQ_0JF7Ha",
    "outputId": "69887a3d-90a4-4369-c827-3d2937680f4f"
   },
   "outputs": [],
   "source": [
    "round(pd.DataFrame(std_scaled).describe(), 2)"
   ]
  },
  {
   "cell_type": "markdown",
   "metadata": {
    "id": "S4f-BEo9JEfv"
   },
   "source": [
    "## 파이프라인 (pipeline)"
   ]
  },
  {
   "cell_type": "markdown",
   "metadata": {
    "id": "CnSNlLtvkNZK"
   },
   "source": [
    "scikit-learn의 **전처리(pre-processing)용 모듈과 모델의 학습 기능을 파이프라인으로 합칠 수** 있습니다.\n",
    "\n",
    "- 파이프라인으로 결합된 모형은 원래의 모형이 가지는 `fit`, `predict` 함수를 가집니다.\n",
    "- 파이프라인에 정의된 순서에 따라 전처리 모듈이 먼저 호출되어 전처리 과정을 거친 후 모델이 학습하게 됩니다."
   ]
  },
  {
   "cell_type": "markdown",
   "metadata": {
    "id": "qEIWlhaKkNZK"
   },
   "source": [
    "[Pipeline 공식 도큐먼트](https://scikit-learn.org/stable/modules/generated/sklearn.pipeline.Pipeline.html)"
   ]
  },
  {
   "cell_type": "code",
   "execution_count": null,
   "metadata": {
    "id": "5T_OgctCkNZK"
   },
   "outputs": [],
   "source": [
    "from sklearn.pipeline import make_pipeline"
   ]
  },
  {
   "cell_type": "markdown",
   "metadata": {},
   "source": [
    "- `MinMaxScaler`를 적용\n",
    "- ElasticNet, `alpha=0.1`, `l1_ratio=0.2` 적용"
   ]
  },
  {
   "cell_type": "code",
   "execution_count": null,
   "metadata": {
    "id": "d_1e5lJqkNZM"
   },
   "outputs": [],
   "source": [
    "# 코드를 입력해 주세요\n",
    "pipeline = make_pipeline(\n",
    "    \n",
    "    \n",
    ")"
   ]
  },
  {
   "cell_type": "code",
   "execution_count": null,
   "metadata": {
    "id": "47vAMyzekNZN"
   },
   "outputs": [],
   "source": [
    "# 코드를 입력해 주세요\n",
    "pipeline.\n",
    "pipeline_pred = "
   ]
  },
  {
   "cell_type": "code",
   "execution_count": null,
   "metadata": {
    "id": "_yiDfrs6kNZP",
    "outputId": "64b4c7bc-afc0-409b-96f0-40c7b800d1b2"
   },
   "outputs": [],
   "source": [
    "utils.plot_error('MinMax ElasticNet', y_test, pipeline_pred)"
   ]
  },
  {
   "cell_type": "markdown",
   "metadata": {},
   "source": [
    "- `StandardScaler`를 적용\n",
    "- ElasticNet, `alpha=0.1`, `l1_ratio=0.2` 적용"
   ]
  },
  {
   "cell_type": "code",
   "execution_count": null,
   "metadata": {
    "id": "3WdFqaM2D0d4"
   },
   "outputs": [],
   "source": [
    "# 코드를 입력해 주세요\n",
    "pipeline = make_pipeline(\n",
    "    \n",
    "    \n",
    ")"
   ]
  },
  {
   "cell_type": "code",
   "execution_count": null,
   "metadata": {
    "id": "dMoUFzIXEPYc"
   },
   "outputs": [],
   "source": [
    "# 코드를 입력해 주세요\n",
    "pipeline.\n",
    "pipeline_pred = "
   ]
  },
  {
   "cell_type": "code",
   "execution_count": null,
   "metadata": {
    "colab": {
     "base_uri": "https://localhost:8080/",
     "height": 1000
    },
    "id": "AcVL3xq8I-ED",
    "outputId": "cd35a54c-fec8-46ab-96e2-bb9edace5d9c"
   },
   "outputs": [],
   "source": [
    "utils.plot_error('Standard ElasticNet', y_test, pipeline_pred)"
   ]
  },
  {
   "cell_type": "markdown",
   "metadata": {
    "id": "8Q1HVOYFJkNu"
   },
   "source": [
    "### Polynomial Features"
   ]
  },
  {
   "cell_type": "markdown",
   "metadata": {
    "id": "zlOTc_W4LM9T"
   },
   "source": [
    "다항식의 계수간 상호작용을 통해 **새로운 feature를 생성**합니다.\n",
    "\n",
    "예를들면, [a, b] 2개의 feature가 존재한다고 가정하고,\n",
    "\n",
    "degree=2로 설정한다면, polynomial features 는 [1, a, b, a^2, ab, b^2] 가 됩니다.\n",
    "\n",
    "**주의**\n",
    "- `degree`를 올리면, 기하급수적으로 많은 feature 들이 생겨나며, 학습 데이터에 지나치게 과대적합 될 수 있습니다.\n",
    "\n",
    "**주요 hyperparameter**\n",
    "\n",
    "- `degree`: 차수\n",
    "- `include_bias`: 1로 채운 컬럼 추가 여부"
   ]
  },
  {
   "cell_type": "markdown",
   "metadata": {
    "id": "0uuwAOPTkNZV"
   },
   "source": [
    "[Polynomial Features 도큐먼트](https://scikit-learn.org/stable/modules/generated/sklearn.preprocessing.PolynomialFeatures.html?highlight=poly%20feature#sklearn.preprocessing.PolynomialFeatures)"
   ]
  },
  {
   "cell_type": "code",
   "execution_count": null,
   "metadata": {
    "id": "WW2SxEf6JohP"
   },
   "outputs": [],
   "source": [
    "from sklearn.preprocessing import PolynomialFeatures"
   ]
  },
  {
   "cell_type": "code",
   "execution_count": null,
   "metadata": {
    "id": "1FAby-UOkNZX",
    "outputId": "842d0915-588c-400e-8e08-18cc4060eb81"
   },
   "outputs": [],
   "source": [
    "x = np.arange(5).reshape(-1, 1)\n",
    "x"
   ]
  },
  {
   "cell_type": "markdown",
   "metadata": {
    "id": "w4l9-aIUkNZY"
   },
   "source": [
    "`degree=2`, `include_bias=False` 인 경우"
   ]
  },
  {
   "cell_type": "code",
   "execution_count": null,
   "metadata": {
    "id": "d5MzMb5ZkNZY",
    "outputId": "506b69a5-e2de-4abe-c169-62b1e36a5d8b"
   },
   "outputs": [],
   "source": [
    "poly = PolynomialFeatures(degree=2, include_bias=False)\n",
    "x_poly = poly.fit_transform(x)\n",
    "x_poly"
   ]
  },
  {
   "cell_type": "markdown",
   "metadata": {
    "id": "vG80SrDVkNZZ"
   },
   "source": [
    "`degree=2`, `include_bias=True` 인 경우"
   ]
  },
  {
   "cell_type": "code",
   "execution_count": null,
   "metadata": {
    "id": "Sc05SkJ8kNZa",
    "outputId": "21835a15-e835-4752-cd7a-a42529c0ca0d"
   },
   "outputs": [],
   "source": [
    "poly = PolynomialFeatures(degree=2, include_bias=True)\n",
    "x_poly = poly.fit_transform(x)\n",
    "x_poly"
   ]
  },
  {
   "cell_type": "markdown",
   "metadata": {
    "id": "ExRKWtiikNZb"
   },
   "source": [
    "`degree=3`, `include_bias=True` 인 경우"
   ]
  },
  {
   "cell_type": "code",
   "execution_count": null,
   "metadata": {
    "id": "PFIuJutOkNZb",
    "outputId": "c0330416-e192-4913-f774-8e50f3926bc6"
   },
   "outputs": [],
   "source": [
    "poly = PolynomialFeatures(degree=3, include_bias=True)\n",
    "x_poly = poly.fit_transform(x)\n",
    "x_poly"
   ]
  },
  {
   "cell_type": "markdown",
   "metadata": {
    "id": "sdS1IvOZkNZc"
   },
   "source": [
    "보스톤 집 값 데이터의 features에 `PolynomialFeatures`를 적용합니다."
   ]
  },
  {
   "cell_type": "code",
   "execution_count": null,
   "metadata": {
    "id": "ri2oXSKuKVA9"
   },
   "outputs": [],
   "source": [
    "poly = PolynomialFeatures(degree=2, include_bias=False)\n",
    "poly_features = poly.fit_transform(x_train)[0]\n",
    "poly_features"
   ]
  },
  {
   "cell_type": "code",
   "execution_count": null,
   "metadata": {},
   "outputs": [],
   "source": [
    "x_train_poly = poly.fit_transform(x_train)\n",
    "x_train_poly[0]"
   ]
  },
  {
   "cell_type": "code",
   "execution_count": null,
   "metadata": {},
   "outputs": [],
   "source": [
    "pd.DataFrame(x_train_poly, columns=poly.get_feature_names()).head()"
   ]
  },
  {
   "cell_type": "markdown",
   "metadata": {
    "id": "YV69yiWakNZf"
   },
   "source": [
    "`PolynomialFeature`도 파이프라인(pipeline)을 활용하여 전처리 해준다면, 손쉽게 구현 및 적용이 가능합니다."
   ]
  },
  {
   "cell_type": "markdown",
   "metadata": {},
   "source": [
    "- `PolynomialFeatures: degree=2, include_bias=False` 지정\n",
    "- `ElasticNet: alpha=0.1, l1_ratio=0.2` 지정"
   ]
  },
  {
   "cell_type": "code",
   "execution_count": null,
   "metadata": {
    "id": "8pJltwYCIr82"
   },
   "outputs": [],
   "source": [
    "poly_pipeline = make_pipeline(\n",
    "    # 코드를 입력해 주세요\n",
    "    \n",
    "    \n",
    ")"
   ]
  },
  {
   "cell_type": "code",
   "execution_count": null,
   "metadata": {
    "colab": {
     "base_uri": "https://localhost:8080/",
     "height": 75
    },
    "id": "bB78kKDdJxJn",
    "outputId": "125960ba-dd42-46f1-d117-7686cd0a2ed6"
   },
   "outputs": [],
   "source": [
    "# 코드를 입력해 주세요\n",
    "poly_pipeline.\n",
    "poly_pred = "
   ]
  },
  {
   "cell_type": "code",
   "execution_count": null,
   "metadata": {
    "colab": {
     "base_uri": "https://localhost:8080/",
     "height": 1000
    },
    "id": "vBtOJDtPJ06P",
    "outputId": "6129d2af-adf2-4ac5-ffdf-e234111a0d81",
    "scrolled": false
   },
   "outputs": [],
   "source": [
    "utils.plot_error('Poly ElasticNet', y_test, poly_pred)"
   ]
  }
 ],
 "metadata": {
  "colab": {
   "collapsed_sections": [],
   "name": "06-회귀 (regression) (해설)",
   "provenance": []
  },
  "kernelspec": {
   "display_name": "Python 3",
   "language": "python",
   "name": "python3"
  },
  "language_info": {
   "codemirror_mode": {
    "name": "ipython",
    "version": 3
   },
   "file_extension": ".py",
   "mimetype": "text/x-python",
   "name": "python",
   "nbconvert_exporter": "python",
   "pygments_lexer": "ipython3",
   "version": "3.7.10"
  }
 },
 "nbformat": 4,
 "nbformat_minor": 1
}
